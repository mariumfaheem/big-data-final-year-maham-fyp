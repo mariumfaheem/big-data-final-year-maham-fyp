{
 "cells": [
  {
   "cell_type": "code",
   "execution_count": 1,
   "metadata": {
    "collapsed": true,
    "ExecuteTime": {
     "end_time": "2024-03-15T22:14:23.780428Z",
     "start_time": "2024-03-15T22:14:20.466544Z"
    }
   },
   "outputs": [
    {
     "name": "stderr",
     "output_type": "stream",
     "text": [
      "Setting default log level to \"WARN\".\n",
      "To adjust logging level use sc.setLogLevel(newLevel). For SparkR, use setLogLevel(newLevel).\n",
      "24/03/16 02:14:23 WARN NativeCodeLoader: Unable to load native-hadoop library for your platform... using builtin-java classes where applicable\n"
     ]
    }
   ],
   "source": [
    "import pyspark\n",
    "from pyspark.sql.functions import rand\n",
    "import datetime\n",
    "\n",
    "from pyspark.sql.types import StructType, StructField, IntegerType, StringType, BooleanType,FloatType, DoubleType\n",
    "\n",
    "from pyspark import SparkContext, HiveContext\n",
    "from pyspark.sql import SparkSession\n",
    "import time\n",
    "from pyspark.sql.functions import *\n",
    "import argparse\n",
    "import datetime\n",
    "from pyspark.sql import SparkSession\n",
    "from datetime import datetime\n",
    "spark = SparkSession.builder.getOrCreate()"
   ]
  },
  {
   "cell_type": "code",
   "execution_count": 2,
   "outputs": [],
   "source": [
    "\"\"\"## Global Variables\"\"\"\n",
    "\n",
    "MoneyMule = 50.00\n",
    "\n",
    "code_not_to_use = [1, 18, 111, 30000, 31813, 32190, 33205, 33206, 37505, 99999 ]\n",
    "\n",
    "high_risk_categories = ['VH', 'HI', 'PE']\n",
    "\n",
    "so_scr = ['SO', 'SCR','']\n",
    "\n",
    "\"\"\"## Criteria\"\"\"\n",
    "\n",
    "A_Criteria = 499.99\n",
    "B_Criteria = 499.99\n",
    "C_Criteria = 4999.99\n",
    "D_Criteria_Lower = 2499.99\n",
    "D_Criteria_Upper = 4999.99\n",
    "E_Criteria= 4999.99\n",
    "F_Criteria = 499.99\n",
    "G_Criteria = 2499.99\n",
    "\n",
    "Y_Criteria = 500.00\n",
    "Z_Criteria = 5999.99\n",
    "\n",
    "Minor = 16\n",
    "MuleLower = 17\n",
    "MuleUpper = 25\n",
    "\n",
    "user_id =1234"
   ],
   "metadata": {
    "collapsed": false,
    "ExecuteTime": {
     "end_time": "2024-03-15T22:14:25.829875Z",
     "start_time": "2024-03-15T22:14:25.827839Z"
    }
   }
  },
  {
   "cell_type": "code",
   "execution_count": 3,
   "outputs": [],
   "source": [
    "\"\"\"## AWS S3 File Path\"\"\"\n",
    "\n",
    "trans_path = \"/Users/Marium_Faheem/Library/CloudStorage/OneDrive-McKinsey&Company/Desktop/learning/maham-df/new/ScionTransactionList.csv\"\n",
    "member_path = \"/Users/Marium_Faheem/Library/CloudStorage/OneDrive-McKinsey&Company/Desktop/learning/maham-df/new/ScionMemberList.csv\"\n",
    "\n",
    "member_df = spark.read.option(\"header\", True).csv(member_path)\n",
    "\n",
    "trans_df = spark.read.option(\"header\", True).csv(trans_path)\n"
   ],
   "metadata": {
    "collapsed": false,
    "ExecuteTime": {
     "end_time": "2024-03-15T22:14:31.341788Z",
     "start_time": "2024-03-15T22:14:28.589807Z"
    }
   }
  },
  {
   "cell_type": "code",
   "execution_count": 4,
   "outputs": [],
   "source": [
    "\"\"\"## Data Pre-Processing\"\"\"\n",
    "\n",
    "trans_df = trans_df.withColumnRenamed('Trans In Amount ', 'TransInAmount')\n",
    "trans_df = trans_df.withColumnRenamed('Trans Out Amount', 'TransOutAmount')\n",
    "\n",
    "\n",
    "pattern = r\"\\,\"\n",
    "trans_df = trans_df.withColumn(\n",
    "    \"TransInAmount\",\n",
    "    regexp_replace(trans_df[\"TransInAmount\"], pattern, \"\")  # Replace comma with empty string\n",
    ")\n",
    "\n",
    "trans_df = trans_df.withColumn(\n",
    "    \"TransOutAmount\",\n",
    "    regexp_replace(trans_df[\"TransOutAmount\"], pattern, \"\")  # Replace comma with empty string\n",
    ")\n",
    "\n",
    "\n",
    "\"\"\"# Calculate Columns from `Transaction File`\"\"\"\n",
    "\n",
    "trans_df = trans_df.withColumn(\"TransactionTotal\", col(\"TransInAmount\") - col(\"TransOutAmount\"))\n",
    "\n",
    "trans_df = trans_df.withColumn(\n",
    "    \"TransactionPositiveTotal\",\n",
    "    when(col(\"TransactionTotal\").isNull(), \"\").otherwise(abs(col(\"TransactionTotal\")))\n",
    ")\n",
    "\n",
    "trans_df = trans_df.withColumn(\n",
    "    \"TransForMoneyMuleAndCombined\",\n",
    "    when(col(\"TransactionPositiveTotal\") > MoneyMule, col(\"TransactionPositiveTotal\")).otherwise(0)\n",
    ")\n",
    "\n",
    "trans_df = trans_df.withColumn(\n",
    "    \"Trans Incl\",\n",
    "    when(col(\"TransactionPositiveTotal\") > 0, \"Yes\").otherwise(\"No\")\n",
    ")\n",
    "\n",
    "trans_df = trans_df.withColumn(\n",
    "    \"Account_Not_In_Use\",\n",
    "    when(col(\"Account Number\").isin(code_not_to_use), \"No\").otherwise(\"Yes\")\n",
    ")\n",
    "\n",
    "#current = s0 or\n",
    "trans_df = trans_df.withColumn(\n",
    "    \"SO_SCR\",\n",
    "    when(col(\"Transaction Type\").isin(so_scr), col('Transaction Type')).otherwise(\"\")\n",
    ")"
   ],
   "metadata": {
    "collapsed": false,
    "ExecuteTime": {
     "end_time": "2024-03-15T22:14:34.845248Z",
     "start_time": "2024-03-15T22:14:34.725274Z"
    }
   }
  },
  {
   "cell_type": "code",
   "execution_count": 5,
   "outputs": [
    {
     "name": "stdout",
     "output_type": "stream",
     "text": [
      "root\n",
      " |-- Account Number: string (nullable = true)\n",
      " |-- Financial Month: string (nullable = true)\n",
      " |-- Date: string (nullable = true)\n",
      " |-- Transaction No: string (nullable = true)\n",
      " |-- Transaction Type: string (nullable = true)\n",
      " |-- Trans Type Category: string (nullable = true)\n",
      " |-- Transaction Note: string (nullable = true)\n",
      " |-- TransInAmount: string (nullable = true)\n",
      " |-- TransOutAmount: string (nullable = true)\n",
      " |-- TransactionTotal: double (nullable = true)\n",
      " |-- TransactionPositiveTotal: string (nullable = true)\n",
      " |-- TransForMoneyMuleAndCombined: string (nullable = true)\n",
      " |-- Trans Incl: string (nullable = false)\n",
      " |-- Account_Not_In_Use: string (nullable = false)\n",
      " |-- SO_SCR: string (nullable = true)\n",
      "\n"
     ]
    }
   ],
   "source": [
    "trans_df.printSchema()"
   ],
   "metadata": {
    "collapsed": false,
    "ExecuteTime": {
     "end_time": "2024-03-15T21:35:07.677687Z",
     "start_time": "2024-03-15T21:35:07.672425Z"
    }
   }
  },
  {
   "cell_type": "code",
   "execution_count": 5,
   "outputs": [
    {
     "name": "stdout",
     "output_type": "stream",
     "text": [
      "+--------------+---------------+---------+--------------+----------------+-------------------+----------------+-------------+--------------+----------------+------------------------+----------------------------+----------+------------------+------+\n",
      "|Account Number|Financial Month|     Date|Transaction No|Transaction Type|Trans Type Category|Transaction Note|TransInAmount|TransOutAmount|TransactionTotal|TransactionPositiveTotal|TransForMoneyMuleAndCombined|Trans Incl|Account_Not_In_Use|SO_SCR|\n",
      "+--------------+---------------+---------+--------------+----------------+-------------------+----------------+-------------+--------------+----------------+------------------------+----------------------------+----------+------------------+------+\n",
      "|            68|         23-Dec|07-Dec-23|      46996114|              SO|                EFT|   Not Available|            0|           -83|            83.0|                    83.0|                        83.0|       Yes|               Yes|    SO|\n",
      "+--------------+---------------+---------+--------------+----------------+-------------------+----------------+-------------+--------------+----------------+------------------------+----------------------------+----------+------------------+------+\n",
      "\n"
     ]
    }
   ],
   "source": [
    "trans_df.filter(col(\"Transaction No\")==46996114).show()"
   ],
   "metadata": {
    "collapsed": false,
    "ExecuteTime": {
     "end_time": "2024-03-15T22:14:39.534215Z",
     "start_time": "2024-03-15T22:14:39.006588Z"
    }
   }
  },
  {
   "cell_type": "code",
   "execution_count": 6,
   "outputs": [
    {
     "name": "stderr",
     "output_type": "stream",
     "text": [
      "24/03/16 02:14:47 WARN WindowExec: No Partition Defined for Window operation! Moving all data to a single partition, this can cause serious performance degradation.\n",
      "24/03/16 02:14:47 WARN WindowExec: No Partition Defined for Window operation! Moving all data to a single partition, this can cause serious performance degradation.\n",
      "24/03/16 02:14:47 WARN WindowExec: No Partition Defined for Window operation! Moving all data to a single partition, this can cause serious performance degradation.\n",
      "24/03/16 02:14:48 WARN WindowExec: No Partition Defined for Window operation! Moving all data to a single partition, this can cause serious performance degradation.\n",
      "24/03/16 02:14:48 WARN WindowExec: No Partition Defined for Window operation! Moving all data to a single partition, this can cause serious performance degradation.\n"
     ]
    },
    {
     "name": "stdout",
     "output_type": "stream",
     "text": [
      "+--------------+---------------+---------+--------------+----------------+-------------------+----------------+-------------+--------------+----------------+------------------------+----------------------------+----------+------------------+------+--------------+----------+---+\n",
      "|Account Number|Financial Month|     Date|Transaction No|Transaction Type|Trans Type Category|Transaction Note|TransInAmount|TransOutAmount|TransactionTotal|TransactionPositiveTotal|TransForMoneyMuleAndCombined|Trans Incl|Account_Not_In_Use|SO_SCR|previous_value|next_value|No1|\n",
      "+--------------+---------------+---------+--------------+----------------+-------------------+----------------+-------------+--------------+----------------+------------------------+----------------------------+----------+------------------+------+--------------+----------+---+\n",
      "|            68|         23-Dec|07-Dec-23|      46996114|              SO|                EFT|   Not Available|            0|           -83|            83.0|                    83.0|                        83.0|       Yes|               Yes|    SO|           SCR|        SO|  Y|\n",
      "+--------------+---------------+---------+--------------+----------------+-------------------+----------------+-------------+--------------+----------------+------------------------+----------------------------+----------+------------------+------+--------------+----------+---+\n",
      "\n"
     ]
    }
   ],
   "source": [
    "from pyspark.sql import SparkSession\n",
    "from pyspark.sql.window import Window\n",
    "from pyspark.sql.functions import col, lead, lag\n",
    "\n",
    "\n",
    "# Define the window specification\n",
    "windowSpec = Window.orderBy(\"Account Number\")\n",
    "\n",
    "# Add previous, current, and next values\n",
    "df_with_prev_next = trans_df.withColumn(\"previous_value\", lag(\"SO_SCR\").over(windowSpec)) \\\n",
    "    .withColumn(\"next_value\", lead(\"SO_SCR\").over(windowSpec))\n",
    "\n",
    "\n",
    "# previous value = SCR and current value = s0 and next value = s0\n",
    "df_with_prev_next =df_with_prev_next.withColumn(\n",
    "    \"No1\",\n",
    "    when((col(\"previous_value\") == \"SCR\") & (col('SO_SCR') == \"SO\") & ( col('next_value') ==\"SO\"), \"Y\").otherwise(\" \")\n",
    ")\n",
    "\n",
    "\n",
    "df_with_prev_next.filter(col(\"Transaction No\")==46996114).show()"
   ],
   "metadata": {
    "collapsed": false,
    "ExecuteTime": {
     "end_time": "2024-03-15T22:14:48.636311Z",
     "start_time": "2024-03-15T22:14:47.620571Z"
    }
   }
  },
  {
   "cell_type": "code",
   "execution_count": 7,
   "outputs": [
    {
     "name": "stderr",
     "output_type": "stream",
     "text": [
      "24/03/16 02:14:57 WARN WindowExec: No Partition Defined for Window operation! Moving all data to a single partition, this can cause serious performance degradation.\n",
      "24/03/16 02:14:57 WARN WindowExec: No Partition Defined for Window operation! Moving all data to a single partition, this can cause serious performance degradation.\n",
      "24/03/16 02:14:57 WARN WindowExec: No Partition Defined for Window operation! Moving all data to a single partition, this can cause serious performance degradation.\n",
      "24/03/16 02:14:57 WARN WindowExec: No Partition Defined for Window operation! Moving all data to a single partition, this can cause serious performance degradation.\n",
      "24/03/16 02:14:57 WARN WindowExec: No Partition Defined for Window operation! Moving all data to a single partition, this can cause serious performance degradation.\n",
      "24/03/16 02:14:57 WARN WindowExec: No Partition Defined for Window operation! Moving all data to a single partition, this can cause serious performance degradation.\n",
      "24/03/16 02:14:57 WARN WindowExec: No Partition Defined for Window operation! Moving all data to a single partition, this can cause serious performance degradation.\n",
      "24/03/16 02:14:57 WARN WindowExec: No Partition Defined for Window operation! Moving all data to a single partition, this can cause serious performance degradation.\n",
      "24/03/16 02:14:57 WARN WindowExec: No Partition Defined for Window operation! Moving all data to a single partition, this can cause serious performance degradation.\n"
     ]
    },
    {
     "name": "stdout",
     "output_type": "stream",
     "text": [
      "+--------------+---------------+---------+--------------+----------------+-------------------+----------------+-------------+--------------+----------------+------------------------+----------------------------+----------+------------------+------+--------------+----------+---+---+\n",
      "|Account Number|Financial Month|     Date|Transaction No|Transaction Type|Trans Type Category|Transaction Note|TransInAmount|TransOutAmount|TransactionTotal|TransactionPositiveTotal|TransForMoneyMuleAndCombined|Trans Incl|Account_Not_In_Use|SO_SCR|previous_value|next_value|No1|No2|\n",
      "+--------------+---------------+---------+--------------+----------------+-------------------+----------------+-------------+--------------+----------------+------------------------+----------------------------+----------+------------------+------+--------------+----------+---+---+\n",
      "|            68|         23-Dec|14-Dec-23|      47012712|              SO|                EFT|   Not Available|           83|             0|            83.0|                    83.0|                        83.0|       Yes|               Yes|    SO|            SO|       SCR|   |  Y|\n",
      "+--------------+---------------+---------+--------------+----------------+-------------------+----------------+-------------+--------------+----------------+------------------------+----------------------------+----------+------------------+------+--------------+----------+---+---+\n",
      "\n"
     ]
    }
   ],
   "source": [
    "#No2 previous n1 =’Y’ and  SO_SCR = s0. then Y else “”\n",
    "df_with_prev_next = df_with_prev_next.withColumn(\n",
    "    \"No2\",\n",
    "    when(\n",
    "        (lag(\"No1\", 1).over(windowSpec) == \"Y\") & (col(\"SO_SCR\") == \"SO\"),\n",
    "        \"Y\"\n",
    "    ).otherwise(\"\")\n",
    ")\n",
    "df_with_prev_next.filter(col(\"Transaction No\")==47012712).show()"
   ],
   "metadata": {
    "collapsed": false,
    "ExecuteTime": {
     "end_time": "2024-03-15T22:14:58.001121Z",
     "start_time": "2024-03-15T22:14:57.408241Z"
    }
   }
  },
  {
   "cell_type": "code",
   "execution_count": null,
   "outputs": [],
   "source": [],
   "metadata": {
    "collapsed": false
   }
  },
  {
   "cell_type": "code",
   "execution_count": 8,
   "outputs": [
    {
     "name": "stderr",
     "output_type": "stream",
     "text": [
      "24/03/16 02:15:01 WARN WindowExec: No Partition Defined for Window operation! Moving all data to a single partition, this can cause serious performance degradation.\n",
      "24/03/16 02:15:01 WARN WindowExec: No Partition Defined for Window operation! Moving all data to a single partition, this can cause serious performance degradation.\n",
      "24/03/16 02:15:01 WARN WindowExec: No Partition Defined for Window operation! Moving all data to a single partition, this can cause serious performance degradation.\n",
      "24/03/16 02:15:01 WARN WindowExec: No Partition Defined for Window operation! Moving all data to a single partition, this can cause serious performance degradation.\n",
      "24/03/16 02:15:01 WARN WindowExec: No Partition Defined for Window operation! Moving all data to a single partition, this can cause serious performance degradation.\n",
      "24/03/16 02:15:01 WARN WindowExec: No Partition Defined for Window operation! Moving all data to a single partition, this can cause serious performance degradation.\n",
      "24/03/16 02:15:01 WARN WindowExec: No Partition Defined for Window operation! Moving all data to a single partition, this can cause serious performance degradation.\n",
      "24/03/16 02:15:01 WARN WindowExec: No Partition Defined for Window operation! Moving all data to a single partition, this can cause serious performance degradation.\n",
      "24/03/16 02:15:01 WARN WindowExec: No Partition Defined for Window operation! Moving all data to a single partition, this can cause serious performance degradation.\n",
      "24/03/16 02:15:01 WARN WindowExec: No Partition Defined for Window operation! Moving all data to a single partition, this can cause serious performance degradation.\n",
      "24/03/16 02:15:01 WARN WindowExec: No Partition Defined for Window operation! Moving all data to a single partition, this can cause serious performance degradation.\n",
      "24/03/16 02:15:01 WARN WindowExec: No Partition Defined for Window operation! Moving all data to a single partition, this can cause serious performance degradation.\n",
      "24/03/16 02:15:01 WARN WindowExec: No Partition Defined for Window operation! Moving all data to a single partition, this can cause serious performance degradation.\n"
     ]
    },
    {
     "name": "stdout",
     "output_type": "stream",
     "text": [
      "+--------------+---------------+---------+--------------+----------------+-------------------+----------------+-------------+--------------+----------------+------------------------+----------------------------+----------+------------------+------+--------------+----------+---+---+---+\n",
      "|Account Number|Financial Month|     Date|Transaction No|Transaction Type|Trans Type Category|Transaction Note|TransInAmount|TransOutAmount|TransactionTotal|TransactionPositiveTotal|TransForMoneyMuleAndCombined|Trans Incl|Account_Not_In_Use|SO_SCR|previous_value|next_value|No1|No2|No3|\n",
      "+--------------+---------------+---------+--------------+----------------+-------------------+----------------+-------------+--------------+----------------+------------------------+----------------------------+----------+------------------+------+--------------+----------+---+---+---+\n",
      "|            68|         23-Dec|14-Dec-23|      47012711|              SO|                EFT|   Not Available|            0|           -83|            83.0|                    83.0|                        83.0|       Yes|               Yes|    SO|           SCR|        SO|  Y|   |  E|\n",
      "+--------------+---------------+---------+--------------+----------------+-------------------+----------------+-------------+--------------+----------------+------------------------+----------------------------+----------+------------------+------+--------------+----------+---+---+---+\n",
      "\n"
     ]
    }
   ],
   "source": [
    "#No 3 current No1 = Y and next No2 = Y and  current_total transaction = next_total trasacation then E\n",
    "df_with_prev_next = df_with_prev_next.withColumn(\n",
    "    \"No3\",\n",
    "    when(\n",
    "        (col(\"No1\") == \"Y\") &\n",
    "        (lead(\"No2\", 1).over(windowSpec) == \"Y\") &\n",
    "        (col(\"TransactionTotal\") == lead(\"TransactionTotal\", 1).over(windowSpec)),\n",
    "        \"E\"\n",
    "    ).otherwise(\"\")\n",
    ")\n",
    "\n",
    "df_with_prev_next.filter(col(\"Transaction No\")==47012711).show()"
   ],
   "metadata": {
    "collapsed": false,
    "ExecuteTime": {
     "end_time": "2024-03-15T22:15:01.823558Z",
     "start_time": "2024-03-15T22:15:01.113365Z"
    }
   }
  },
  {
   "cell_type": "code",
   "execution_count": 10,
   "outputs": [
    {
     "name": "stderr",
     "output_type": "stream",
     "text": [
      "24/03/16 02:17:50 WARN WindowExec: No Partition Defined for Window operation! Moving all data to a single partition, this can cause serious performance degradation.\n",
      "24/03/16 02:17:50 WARN WindowExec: No Partition Defined for Window operation! Moving all data to a single partition, this can cause serious performance degradation.\n",
      "24/03/16 02:17:50 WARN WindowExec: No Partition Defined for Window operation! Moving all data to a single partition, this can cause serious performance degradation.\n",
      "24/03/16 02:17:50 WARN WindowExec: No Partition Defined for Window operation! Moving all data to a single partition, this can cause serious performance degradation.\n",
      "24/03/16 02:17:50 WARN WindowExec: No Partition Defined for Window operation! Moving all data to a single partition, this can cause serious performance degradation.\n",
      "24/03/16 02:17:50 WARN WindowExec: No Partition Defined for Window operation! Moving all data to a single partition, this can cause serious performance degradation.\n",
      "24/03/16 02:17:50 WARN WindowExec: No Partition Defined for Window operation! Moving all data to a single partition, this can cause serious performance degradation.\n",
      "24/03/16 02:17:50 WARN WindowExec: No Partition Defined for Window operation! Moving all data to a single partition, this can cause serious performance degradation.\n",
      "24/03/16 02:17:50 WARN WindowExec: No Partition Defined for Window operation! Moving all data to a single partition, this can cause serious performance degradation.\n",
      "24/03/16 02:17:50 WARN WindowExec: No Partition Defined for Window operation! Moving all data to a single partition, this can cause serious performance degradation.\n",
      "24/03/16 02:17:50 WARN WindowExec: No Partition Defined for Window operation! Moving all data to a single partition, this can cause serious performance degradation.\n",
      "24/03/16 02:17:50 WARN WindowExec: No Partition Defined for Window operation! Moving all data to a single partition, this can cause serious performance degradation.\n",
      "24/03/16 02:17:50 WARN WindowExec: No Partition Defined for Window operation! Moving all data to a single partition, this can cause serious performance degradation.\n",
      "24/03/16 02:17:50 WARN WindowExec: No Partition Defined for Window operation! Moving all data to a single partition, this can cause serious performance degradation.\n",
      "24/03/16 02:17:50 WARN WindowExec: No Partition Defined for Window operation! Moving all data to a single partition, this can cause serious performance degradation.\n",
      "24/03/16 02:17:50 WARN WindowExec: No Partition Defined for Window operation! Moving all data to a single partition, this can cause serious performance degradation.\n",
      "24/03/16 02:17:50 WARN WindowExec: No Partition Defined for Window operation! Moving all data to a single partition, this can cause serious performance degradation.\n"
     ]
    },
    {
     "name": "stdout",
     "output_type": "stream",
     "text": [
      "+--------------+---------------+---------+--------------+----------------+-------------------+----------------+-------------+--------------+----------------+------------------------+----------------------------+----------+------------------+------+--------------+----------+---+---+---+---+\n",
      "|Account Number|Financial Month|     Date|Transaction No|Transaction Type|Trans Type Category|Transaction Note|TransInAmount|TransOutAmount|TransactionTotal|TransactionPositiveTotal|TransForMoneyMuleAndCombined|Trans Incl|Account_Not_In_Use|SO_SCR|previous_value|next_value|No1|No2|No3|No4|\n",
      "+--------------+---------------+---------+--------------+----------------+-------------------+----------------+-------------+--------------+----------------+------------------------+----------------------------+----------+------------------+------+--------------+----------+---+---+---+---+\n",
      "|            68|         23-Dec|07-Dec-23|      46996115|              SO|                EFT|   Not Available|           83|             0|            83.0|                    83.0|                        83.0|       Yes|               Yes|    SO|            SO|       SCR|   |  Y|   |  E|\n",
      "+--------------+---------------+---------+--------------+----------------+-------------------+----------------+-------------+--------------+----------------+------------------------+----------------------------+----------+------------------+------+--------------+----------+---+---+---+---+\n",
      "\n"
     ]
    }
   ],
   "source": [
    "#No 4  - if previous no2 == E then E\n",
    "df_with_prev_next = df_with_prev_next.withColumn(\n",
    "    \"No4\",\n",
    "    when(\n",
    "        (lag(\"No3\", 1).over(windowSpec) == \"E\"),\n",
    "        \"E\"\n",
    "    ).otherwise(\"\")\n",
    ")\n",
    "\n",
    "#\n",
    "df_with_prev_next.filter(col(\"Transaction No\")==46996115).show()"
   ],
   "metadata": {
    "collapsed": false,
    "ExecuteTime": {
     "end_time": "2024-03-15T22:17:50.699805Z",
     "start_time": "2024-03-15T22:17:50.079653Z"
    }
   }
  },
  {
   "cell_type": "code",
   "execution_count": 13,
   "outputs": [
    {
     "name": "stdout",
     "output_type": "stream",
     "text": [
      "+--------------+---------------+---------+--------------+----------------+-------------------+----------------+-------------+--------------+----------------+------------------------+----------------------------+----------+------------------+------+--------------+------------+------------------+--------------------+---+-----------+--------------+---------+-----------+\n",
      "|Account Number|Financial Month|     Date|Transaction No|Transaction Type|Trans Type Category|Transaction Note|TransInAmount|TransOutAmount|TransactionTotal|TransactionPositiveTotal|TransForMoneyMuleAndCombined|Trans Incl|Account_Not_In_Use|SO_SCR|Account Number|Account Type| Employment Status| Employment Position|Age|Nationality|Account Status|Risk Code|Date Joined|\n",
      "+--------------+---------------+---------+--------------+----------------+-------------------+----------------+-------------+--------------+----------------+------------------------+----------------------------+----------+------------------+------+--------------+------------+------------------+--------------------+---+-----------+--------------+---------+-----------+\n",
      "|             7|         23-Dec|01-Dec-23|      46980801|              SD|                EFT|   Not Available|          400|             0|           400.0|                   400.0|                       400.0|       Yes|               Yes|      |             7|      SINGLE|EMPLOYED FULL-TIME| CONSTRUCTION WORKER| 40|      IRISH|        ACTIVE|       LO|  11-Jan-90|\n",
      "|             7|         23-Dec|01-Dec-23|      46980801|              SD|                EFT|   Not Available|          400|             0|           400.0|                   400.0|                       400.0|       Yes|               Yes|      |            10|      SINGLE|           RETIRED|       Not Available| 84|      IRISH|        ACTIVE|       LO|  24-Jan-90|\n",
      "|             7|         23-Dec|01-Dec-23|      46980801|              SD|                EFT|   Not Available|          400|             0|           400.0|                   400.0|                       400.0|       Yes|               Yes|      |            14|      SINGLE|           RETIRED|STATE PENSION NON...| 78|      IRISH|        ACTIVE|       LO|  16-Feb-79|\n",
      "|             7|         23-Dec|01-Dec-23|      46980801|              SD|                EFT|   Not Available|          400|             0|           400.0|                   400.0|                       400.0|       Yes|               Yes|      |            20|      SINGLE|           RETIRED|       STATE PENSION| 78|      IRISH|        ACTIVE|       LO|  30-Oct-67|\n",
      "|             7|         23-Dec|01-Dec-23|      46980801|              SD|                EFT|   Not Available|          400|             0|           400.0|                   400.0|                       400.0|       Yes|               Yes|      |            33|      SINGLE|           RETIRED|       Not Available| 75|      IRISH|        ACTIVE|       LO|  18-Dec-67|\n",
      "|             7|         23-Dec|01-Dec-23|      46980801|              SD|                EFT|   Not Available|          400|             0|           400.0|                   400.0|                       400.0|       Yes|               Yes|      |            42|      SINGLE|           RETIRED|       Not Available| 75|      IRISH|        ACTIVE|       LO|  24-Feb-79|\n",
      "|             7|         23-Dec|01-Dec-23|      46980801|              SD|                EFT|   Not Available|          400|             0|           400.0|                   400.0|                       400.0|       Yes|               Yes|      |            46|      SINGLE|        UNEMPLOYED|       Not Available| 64|      IRISH|        ACTIVE|       LO|  25-Nov-92|\n",
      "|             7|         23-Dec|01-Dec-23|      46980801|              SD|                EFT|   Not Available|          400|             0|           400.0|                   400.0|                       400.0|       Yes|               Yes|      |            50|      SINGLE|           RETIRED| JOINT STATE PENSION| 80|      IRISH|        ACTIVE|       LO|  22-Nov-67|\n",
      "|             7|         23-Dec|01-Dec-23|      46980801|              SD|                EFT|   Not Available|          400|             0|           400.0|                   400.0|                       400.0|       Yes|               Yes|      |            53|      SINGLE|EMPLOYED PART-TIME|           SECRETARY| 56|      IRISH|        ACTIVE|       LO|  26-Jan-90|\n",
      "|             7|         23-Dec|01-Dec-23|      46980801|              SD|                EFT|   Not Available|          400|             0|           400.0|                   400.0|                       400.0|       Yes|               Yes|      |            67|      SINGLE|EMPLOYED FULL-TIME|   SOCIAL CARE WRKER| 34|      IRISH|        ACTIVE|       LO|  04-Oct-02|\n",
      "|             7|         23-Dec|01-Dec-23|      46980801|              SD|                EFT|   Not Available|          400|             0|           400.0|                   400.0|                       400.0|       Yes|               Yes|      |            68|      SINGLE|EMPLOYED FULL-TIME|             MANAGER| 55|      IRISH|        ACTIVE|       LO|  26-Jan-90|\n",
      "|             7|         23-Dec|01-Dec-23|      46980801|              SD|                EFT|   Not Available|          400|             0|           400.0|                   400.0|                       400.0|       Yes|               Yes|      |            76|      SINGLE|     Not Available|       Not Available| 76|      IRISH|        ACTIVE|       LO|  12-Jan-68|\n",
      "|             7|         23-Dec|01-Dec-23|      46980801|              SD|                EFT|   Not Available|          400|             0|           400.0|                   400.0|                       400.0|       Yes|               Yes|      |           105|      SINGLE|EMPLOYED FULL-TIME|     CUST.SERV MANGR| 60|      IRISH|        ACTIVE|       LO|  29-Jan-90|\n",
      "|             7|         23-Dec|01-Dec-23|      46980801|              SD|                EFT|   Not Available|          400|             0|           400.0|                   400.0|                       400.0|       Yes|               Yes|      |           114|      SINGLE|           RETIRED|       STATE PENSION| 70|      IRISH|        ACTIVE|       LO|  27-Jul-79|\n",
      "|             7|         23-Dec|01-Dec-23|      46980801|              SD|                EFT|   Not Available|          400|             0|           400.0|                   400.0|                       400.0|       Yes|               Yes|      |           127|      SINGLE|EMPLOYED PART-TIME|       Not Available| 64|      IRISH|        ACTIVE|       LO|  21-Apr-79|\n",
      "|             7|         23-Dec|01-Dec-23|      46980801|              SD|                EFT|   Not Available|          400|             0|           400.0|                   400.0|                       400.0|       Yes|               Yes|      |           141|      SINGLE|           RETIRED|       STATE PENSION| 80|      IRISH|        ACTIVE|       LO|  04-May-79|\n",
      "|             7|         23-Dec|01-Dec-23|      46980801|              SD|                EFT|   Not Available|          400|             0|           400.0|                   400.0|                       400.0|       Yes|               Yes|      |           147|      SINGLE|           RETIRED|             PENSION| 78|      IRISH|        ACTIVE|       LO|  11-Jan-68|\n",
      "|             7|         23-Dec|01-Dec-23|      46980801|              SD|                EFT|   Not Available|          400|             0|           400.0|                   400.0|                       400.0|       Yes|               Yes|      |           150|      SINGLE|        UNEMPLOYED|  DISSABILITY INCOME| 61|      IRISH|        ACTIVE|       LO|  31-Jan-90|\n",
      "|             7|         23-Dec|01-Dec-23|      46980801|              SD|                EFT|   Not Available|          400|             0|           400.0|                   400.0|                       400.0|       Yes|               Yes|      |           163|      SINGLE|           RETIRED|           PENSIONER| 71|      IRISH|        ACTIVE|       LO|  01-Feb-90|\n",
      "|             7|         23-Dec|01-Dec-23|      46980801|              SD|                EFT|   Not Available|          400|             0|           400.0|                   400.0|                       400.0|       Yes|               Yes|      |           165|      SINGLE|EMPLOYED FULL-TIME|             TEACHER| 40|      IRISH|        ACTIVE|       LO|  02-Feb-90|\n",
      "+--------------+---------------+---------+--------------+----------------+-------------------+----------------+-------------+--------------+----------------+------------------------+----------------------------+----------+------------------+------+--------------+------------+------------------+--------------------+---+-----------+--------------+---------+-----------+\n",
      "only showing top 20 rows\n",
      "\n"
     ]
    },
    {
     "name": "stderr",
     "output_type": "stream",
     "text": [
      "24/03/16 02:22:12 WARN Column: Constructing trivially true equals predicate, 'Account Number#52 = Account Number#52'. Perhaps you need to use aliases.\n"
     ]
    }
   ],
   "source": [
    "\n",
    "\n",
    "\"\"\"# Joining the table\"\"\"\n",
    "\n",
    "member_trans_df = trans_df.join(member_df,df_with_prev_next['Account Number']==df_with_prev_next['Account Number'], how=\"inner\")\n",
    "\n",
    "member_trans_df.show()\n",
    "\n",
    "member_trans_df.filter(member_trans_df['Risk Code'] == \"HI\").show()\n",
    "\n",
    "\"\"\"# Calculate Columns from `Member_trans_df`\"\"\"\n",
    "\n",
    "member_trans_df = member_trans_df.withColumn(\n",
    "    \"HighRisk\",\n",
    "    when(col(\"Risk Code\").isin(high_risk_categories), \"Yes\").otherwise(\"No\")\n",
    ")\n",
    "\n",
    "# Account_Not_In_Use ki jaGw code_in_use ayeGw\n",
    "member_trans_df = member_trans_df.withColumn(\"GreaterThan\",\n",
    "                                             when((col(\"Account_Not_In_Use\")=='Yes') & (col(\"Trans Incl\")=='Yes') & ((col(\"TransInAmount\") >= D_Criteria_Lower) & (col(\"TransInAmount\")<= D_Criteria_Upper)), \"Yes\")\n",
    "                                             .otherwise(\"No\"))\n",
    "\n",
    "\"\"\"# Display the `member_trans_df` DataFrame\"\"\"\n",
    "\n",
    "member_trans_df.show()\n",
    "\n",
    "\"\"\"### Verification of the Column Created\"\"\"\n",
    "\n",
    "member_trans_df.filter(col('GreaterThan') == \"Yes\").show(5)\n",
    "\n",
    "member_trans_df.filter(col('HighRisk') == \"Yes\").show(5)\n",
    "\n",
    "code no tot use = yes\n",
    "# trans incl yes\n",
    "# high risk yes\n",
    "# trans postive total > A_Crtiera\n",
    "\n",
    "\"\"\"# Creteria Creation\"\"\"\n",
    "\n",
    "member_trans_df = member_trans_df.withColumn(\"A\",\n",
    "                                             when((col(\"Account_Not_In_Use\")==\"Yes\") # Account_Not_In_Use ki jaga code_in_use ayeGw column\n",
    "                                                  & (col(\"HighRisk\")==\"Yes\")\n",
    "                                                  & (col(\"TransactionPositiveTotal\") > A_Criteria ), \"A\")\n",
    "                                             .otherwise(None))\n",
    "\n",
    "counts_of_A = member_trans_df.filter(member_trans_df['A'] == 'A').count()\n",
    "print(\"Count of records where column 'A' equals 'A':\", counts_of_A)\n",
    "print(\"==========================================================\")\n",
    "#\n",
    "# c_s3_bucket_path = \"s3://scion-platform-bucket/source/demo/scion_criteria.csv\"\n",
    "\n",
    "\n",
    "\n",
    "\n",
    "s3_base_path = \"s3://alm-platform-bucket/data_products/\"\n",
    "date_path = datetime.now().strftime('%Y/%m/%d/')\n",
    "output_file_name = \"scion_criteria.csv\"\n",
    "# Full path including the date\n",
    "c_s3_bucket_path = s3_base_path +user_id +date_path + output_file_name\n",
    "member_trans_df .write.mode(\"overwrite\").option(\"header\", \"true\").csv(c_s3_bucket_path)\n",
    "print(f\"Data saved to {c_s3_bucket_path}\")\n"
   ],
   "metadata": {
    "collapsed": false,
    "ExecuteTime": {
     "end_time": "2024-03-15T22:22:12.271490Z",
     "start_time": "2024-03-15T22:22:12.078748Z"
    }
   }
  }
 ],
 "metadata": {
  "kernelspec": {
   "display_name": "Python 3",
   "language": "python",
   "name": "python3"
  },
  "language_info": {
   "codemirror_mode": {
    "name": "ipython",
    "version": 2
   },
   "file_extension": ".py",
   "mimetype": "text/x-python",
   "name": "python",
   "nbconvert_exporter": "python",
   "pygments_lexer": "ipython2",
   "version": "2.7.6"
  }
 },
 "nbformat": 4,
 "nbformat_minor": 0
}
