{
 "cells": [
  {
   "cell_type": "code",
   "execution_count": 1,
   "metadata": {
    "id": "xLn1z85SP9Mc",
    "colab": {
     "base_uri": "https://localhost:8080/"
    },
    "outputId": "8bc8dcb9-8a70-4bca-8dcf-8fe545cd30b5"
   },
   "outputs": [
    {
     "output_type": "stream",
     "name": "stdout",
     "text": [
      "Collecting pyspark\n",
      "  Downloading pyspark-3.5.1.tar.gz (317.0 MB)\n",
      "\u001B[2K     \u001B[90m━━━━━━━━━━━━━━━━━━━━━━━━━━━━━━━━━━━━━━━━\u001B[0m \u001B[32m317.0/317.0 MB\u001B[0m \u001B[31m2.2 MB/s\u001B[0m eta \u001B[36m0:00:00\u001B[0m\n",
      "\u001B[?25h  Preparing metadata (setup.py) ... \u001B[?25l\u001B[?25hdone\n",
      "Requirement already satisfied: py4j==0.10.9.7 in /usr/local/lib/python3.10/dist-packages (from pyspark) (0.10.9.7)\n",
      "Building wheels for collected packages: pyspark\n",
      "  Building wheel for pyspark (setup.py) ... \u001B[?25l\u001B[?25hdone\n",
      "  Created wheel for pyspark: filename=pyspark-3.5.1-py2.py3-none-any.whl size=317488493 sha256=3e0c3908f6c539d645f6c6c220320de9a89a1a5719a6be757cb659a4bf81eb16\n",
      "  Stored in directory: /root/.cache/pip/wheels/80/1d/60/2c256ed38dddce2fdd93be545214a63e02fbd8d74fb0b7f3a6\n",
      "Successfully built pyspark\n",
      "Installing collected packages: pyspark\n",
      "Successfully installed pyspark-3.5.1\n"
     ]
    }
   ],
   "source": [
    "!pip install pyspark"
   ]
  },
  {
   "cell_type": "code",
   "execution_count": 2,
   "metadata": {
    "id": "VrQIG3lCQAuD"
   },
   "outputs": [],
   "source": [
    "import pyspark\n",
    "from pyspark.sql.functions import rand\n",
    "import datetime\n",
    "\n",
    "from pyspark.sql.types import StructType, StructField, IntegerType, StringType, BooleanType,FloatType, DoubleType\n",
    "\n",
    "\n",
    "from pyspark import SparkContext, HiveContext\n",
    "from pyspark.sql import SparkSession\n",
    "import time\n",
    "from pyspark.sql.functions import *"
   ]
  },
  {
   "cell_type": "code",
   "execution_count": 1,
   "metadata": {
    "id": "9UtD49U0QFKA",
    "ExecuteTime": {
     "end_time": "2024-03-10T21:58:54.845987Z",
     "start_time": "2024-03-10T21:58:46.454460Z"
    }
   },
   "outputs": [
    {
     "name": "stderr",
     "output_type": "stream",
     "text": [
      "Setting default log level to \"WARN\".\n",
      "To adjust logging level use sc.setLogLevel(newLevel). For SparkR, use setLogLevel(newLevel).\n",
      "24/03/11 00:58:54 WARN NativeCodeLoader: Unable to load native-hadoop library for your platform... using builtin-java classes where applicable\n"
     ]
    }
   ],
   "source": [
    "from pyspark.sql import SparkSession\n",
    "spark = SparkSession.builder.getOrCreate()"
   ]
  },
  {
   "cell_type": "code",
   "execution_count": 4,
   "metadata": {
    "id": "e09LN30PQGkc",
    "colab": {
     "base_uri": "https://localhost:8080/"
    },
    "outputId": "a50d99ca-3047-4cca-bf07-32c7d84897c9"
   },
   "outputs": [
    {
     "output_type": "stream",
     "name": "stdout",
     "text": [
      "Mounted at /content/drive\n"
     ]
    }
   ],
   "source": [
    "from google.colab import drive\n",
    "drive.mount('/content/drive')"
   ]
  },
  {
   "cell_type": "markdown",
   "metadata": {
    "id": "LxabnfLugTOf"
   },
   "source": [
    "## Global Variables"
   ]
  },
  {
   "cell_type": "code",
   "execution_count": 2,
   "metadata": {
    "id": "sS8pxZUdgV52",
    "ExecuteTime": {
     "end_time": "2024-03-10T21:58:54.850562Z",
     "start_time": "2024-03-10T21:58:54.848321Z"
    }
   },
   "outputs": [],
   "source": [
    "MoneyMule = 50.00"
   ]
  },
  {
   "cell_type": "code",
   "execution_count": 3,
   "metadata": {
    "id": "nRm2obofhugo",
    "ExecuteTime": {
     "end_time": "2024-03-10T21:58:54.852338Z",
     "start_time": "2024-03-10T21:58:54.849112Z"
    }
   },
   "outputs": [],
   "source": [
    "code_not_to_use = [1, 18, 111, 30000, 31813, 32190, 33205, 33206, 37505, 99999 ]\n",
    "\n",
    "high_risk_categories = ['VH', 'HI', 'PE']\n",
    "\n",
    "so_scr = ['SO', 'SCR']"
   ]
  },
  {
   "cell_type": "markdown",
   "metadata": {
    "id": "ChJmRvXhvJ04"
   },
   "source": [
    "## Criteria"
   ]
  },
  {
   "cell_type": "code",
   "execution_count": 4,
   "metadata": {
    "id": "EKW7IjnevJiN",
    "ExecuteTime": {
     "end_time": "2024-03-10T21:58:54.854022Z",
     "start_time": "2024-03-10T21:58:54.852833Z"
    }
   },
   "outputs": [],
   "source": [
    "A_Criteria = 499.99\n",
    "B_Criteria = 499.99\n",
    "C_Criteria = 4999.99\n",
    "D_Criteria_Lower = 2499.99\n",
    "D_Criteria_Upper = 4999.99\n",
    "E_Criteria= 4999.99\n",
    "F_Criteria = 499.99\n",
    "G_Criteria = 2499.99\n",
    "\n",
    "Y_Criteria = 500.00\n",
    "Z_Criteria = 5999.99\n",
    "\n",
    "Minor = 16\n",
    "MuleLower = 17\n",
    "MuleUpper = 25"
   ]
  },
  {
   "cell_type": "markdown",
   "metadata": {
    "id": "NXWe-vyhQJrd"
   },
   "source": [
    "## Read the files"
   ]
  },
  {
   "cell_type": "code",
   "execution_count": 6,
   "metadata": {
    "id": "HwSefMLBQKuJ",
    "ExecuteTime": {
     "end_time": "2024-03-10T21:59:23.684523Z",
     "start_time": "2024-03-10T21:59:23.680044Z"
    }
   },
   "outputs": [],
   "source": [
    "member_path='/Users/Marium_Faheem/Library/CloudStorage/OneDrive-McKinsey&Company/Desktop/learning/maham-df/ScionMemberList.csv'\n",
    "trans_path='/Users/Marium_Faheem/Library/CloudStorage/OneDrive-McKinsey&Company/Desktop/learning/maham-df/ScionTransactionList.csv'"
   ]
  },
  {
   "cell_type": "code",
   "execution_count": null,
   "outputs": [],
   "source": [],
   "metadata": {
    "collapsed": false
   }
  },
  {
   "cell_type": "code",
   "execution_count": 8,
   "metadata": {
    "id": "eRA1gWtUTOKH",
    "ExecuteTime": {
     "end_time": "2024-03-10T22:00:03.727024Z",
     "start_time": "2024-03-10T22:00:00.658003Z"
    }
   },
   "outputs": [],
   "source": [
    "member_df = spark.read.option(\"header\", True).csv(member_path)\n",
    "\n",
    "trans_df = spark.read.option(\"header\", True).csv(trans_path)"
   ]
  },
  {
   "cell_type": "markdown",
   "metadata": {
    "id": "j1L7E-33TPA0"
   },
   "source": [
    "# Read Scion Transaction File"
   ]
  },
  {
   "cell_type": "code",
   "execution_count": 9,
   "metadata": {
    "id": "uwueojldTNpx",
    "colab": {
     "base_uri": "https://localhost:8080/"
    },
    "outputId": "a873d8c2-6de7-4f32-c4fe-5a29ab0a180e",
    "ExecuteTime": {
     "end_time": "2024-03-10T22:00:05.561812Z",
     "start_time": "2024-03-10T22:00:05.376365Z"
    }
   },
   "outputs": [
    {
     "name": "stdout",
     "output_type": "stream",
     "text": [
      "+--------------+---------------+---------+--------------+----------------+-------------------+--------------------+----------------+----------------+\n",
      "|Account Number|Financial Month|     Date|Transaction No|Transaction Type|Trans Type Category|    Transaction Note|Trans In Amount |Trans Out Amount|\n",
      "+--------------+---------------+---------+--------------+----------------+-------------------+--------------------+----------------+----------------+\n",
      "|             7|         23-Dec|01-Dec-23|      46980801|              SD|                EFT|       Not Available|             400|               0|\n",
      "|             7|         23-Dec|08-Dec-23|      46997807|              SD|                EFT|       Not Available|             400|               0|\n",
      "|             7|         23-Dec|15-Dec-23|      47013444|              SD|                EFT|       Not Available|             400|               0|\n",
      "|             7|         23-Dec|22-Dec-23|      47030043|              SD|                EFT|       Not Available|             400|               0|\n",
      "|             7|         23-Dec|22-Dec-23|      47033716|               1|            COUNTER|       Not Available|               0|            -600|\n",
      "|             7|         23-Dec|29-Dec-23|      47043363|              SD|                EFT|       Not Available|             400|               0|\n",
      "|            10|         23-Dec|05-Dec-23|      46991883|               1|            COUNTER|       Not Available|               0|       -2,117.03|\n",
      "|            10|         23-Dec|05-Dec-23|      46991885|               1|            COUNTER|       Not Available|               0|            -500|\n",
      "|            10|         23-Dec|22-Dec-23|      47033693|               1|            COUNTER|       Not Available|              75|               0|\n",
      "|            10|         23-Dec|22-Dec-23|      47033696|               1|            COUNTER|       Not Available|               0|             -75|\n",
      "|            14|         23-Dec|08-Dec-23|      47000799|               N|            COUNTER|       Not Available|               0|       -1,600.00|\n",
      "|            14|         23-Dec|08-Dec-23|      47000859|               N|            COUNTER|Share transfer of...|        2,500.00|       -2,500.00|\n",
      "|            14|         23-Dec|14-Dec-23|      47013019|               4|            COUNTER|       Not Available|              20|               0|\n",
      "|            14|         23-Dec|21-Dec-23|      47029848|               4|            COUNTER|       Not Available|              20|               0|\n",
      "|            14|         23-Dec|29-Dec-23|      47046109|               4|            COUNTER|       Not Available|              20|               0|\n",
      "|            20|         23-Dec|06-Dec-23|      46993529|               N|            COUNTER|       Not Available|        1,100.00|               0|\n",
      "|            33|         23-Dec|01-Dec-23|      46982272|             SCR|                EFT|       Not Available|           298.3|               0|\n",
      "|            33|         23-Dec|01-Dec-23|      46984861|             SDD|                EFT|       Not Available|               0|             -15|\n",
      "|            33|         23-Dec|01-Dec-23|      46984862|             SDD|                EFT|       Not Available|               0|             -15|\n",
      "|            33|         23-Dec|01-Dec-23|      46985646|            TFER|      Not Available|       Not Available|              50|            -100|\n",
      "+--------------+---------------+---------+--------------+----------------+-------------------+--------------------+----------------+----------------+\n",
      "only showing top 20 rows\n",
      "\n"
     ]
    }
   ],
   "source": [
    "trans_df.show()"
   ]
  },
  {
   "cell_type": "code",
   "execution_count": 10,
   "metadata": {
    "id": "sIjZb9SuTaWC",
    "colab": {
     "base_uri": "https://localhost:8080/"
    },
    "outputId": "0335fc06-3a19-4fa6-83b3-9928958d37ba",
    "ExecuteTime": {
     "end_time": "2024-03-10T22:00:07.824940Z",
     "start_time": "2024-03-10T22:00:07.821189Z"
    }
   },
   "outputs": [
    {
     "name": "stdout",
     "output_type": "stream",
     "text": [
      "root\n",
      " |-- Account Number: string (nullable = true)\n",
      " |-- Financial Month: string (nullable = true)\n",
      " |-- Date: string (nullable = true)\n",
      " |-- Transaction No: string (nullable = true)\n",
      " |-- Transaction Type: string (nullable = true)\n",
      " |-- Trans Type Category: string (nullable = true)\n",
      " |-- Transaction Note: string (nullable = true)\n",
      " |-- Trans In Amount : string (nullable = true)\n",
      " |-- Trans Out Amount: string (nullable = true)\n",
      "\n"
     ]
    }
   ],
   "source": [
    "trans_df.printSchema()"
   ]
  },
  {
   "cell_type": "markdown",
   "metadata": {
    "id": "55YoodaaUsWE"
   },
   "source": [
    "## Data Pre-Processing"
   ]
  },
  {
   "cell_type": "code",
   "execution_count": 14,
   "metadata": {
    "id": "dTEuHlkIV-k8",
    "ExecuteTime": {
     "end_time": "2024-03-10T22:00:22.365661Z",
     "start_time": "2024-03-10T22:00:22.356847Z"
    }
   },
   "outputs": [],
   "source": [
    "trans_df = trans_df.withColumnRenamed('Trans In Amount ', 'TransInAmount')\n",
    "trans_df = trans_df.withColumnRenamed('Trans Out Amount', 'TransOutAmount')\n"
   ]
  },
  {
   "cell_type": "code",
   "execution_count": 15,
   "metadata": {
    "id": "RCXx300_WOWN",
    "colab": {
     "base_uri": "https://localhost:8080/"
    },
    "outputId": "24128adf-c183-4991-80d2-25f8fc6090d0",
    "ExecuteTime": {
     "end_time": "2024-03-10T22:00:23.450308Z",
     "start_time": "2024-03-10T22:00:23.372314Z"
    }
   },
   "outputs": [
    {
     "name": "stdout",
     "output_type": "stream",
     "text": [
      "+--------------+---------------+---------+--------------+----------------+-------------------+--------------------+-------------+--------------+\n",
      "|Account Number|Financial Month|     Date|Transaction No|Transaction Type|Trans Type Category|    Transaction Note|TransInAmount|TransOutAmount|\n",
      "+--------------+---------------+---------+--------------+----------------+-------------------+--------------------+-------------+--------------+\n",
      "|             7|         23-Dec|01-Dec-23|      46980801|              SD|                EFT|       Not Available|          400|             0|\n",
      "|             7|         23-Dec|08-Dec-23|      46997807|              SD|                EFT|       Not Available|          400|             0|\n",
      "|             7|         23-Dec|15-Dec-23|      47013444|              SD|                EFT|       Not Available|          400|             0|\n",
      "|             7|         23-Dec|22-Dec-23|      47030043|              SD|                EFT|       Not Available|          400|             0|\n",
      "|             7|         23-Dec|22-Dec-23|      47033716|               1|            COUNTER|       Not Available|            0|          -600|\n",
      "|             7|         23-Dec|29-Dec-23|      47043363|              SD|                EFT|       Not Available|          400|             0|\n",
      "|            10|         23-Dec|05-Dec-23|      46991883|               1|            COUNTER|       Not Available|            0|     -2,117.03|\n",
      "|            10|         23-Dec|05-Dec-23|      46991885|               1|            COUNTER|       Not Available|            0|          -500|\n",
      "|            10|         23-Dec|22-Dec-23|      47033693|               1|            COUNTER|       Not Available|           75|             0|\n",
      "|            10|         23-Dec|22-Dec-23|      47033696|               1|            COUNTER|       Not Available|            0|           -75|\n",
      "|            14|         23-Dec|08-Dec-23|      47000799|               N|            COUNTER|       Not Available|            0|     -1,600.00|\n",
      "|            14|         23-Dec|08-Dec-23|      47000859|               N|            COUNTER|Share transfer of...|     2,500.00|     -2,500.00|\n",
      "|            14|         23-Dec|14-Dec-23|      47013019|               4|            COUNTER|       Not Available|           20|             0|\n",
      "|            14|         23-Dec|21-Dec-23|      47029848|               4|            COUNTER|       Not Available|           20|             0|\n",
      "|            14|         23-Dec|29-Dec-23|      47046109|               4|            COUNTER|       Not Available|           20|             0|\n",
      "|            20|         23-Dec|06-Dec-23|      46993529|               N|            COUNTER|       Not Available|     1,100.00|             0|\n",
      "|            33|         23-Dec|01-Dec-23|      46982272|             SCR|                EFT|       Not Available|        298.3|             0|\n",
      "|            33|         23-Dec|01-Dec-23|      46984861|             SDD|                EFT|       Not Available|            0|           -15|\n",
      "|            33|         23-Dec|01-Dec-23|      46984862|             SDD|                EFT|       Not Available|            0|           -15|\n",
      "|            33|         23-Dec|01-Dec-23|      46985646|            TFER|      Not Available|       Not Available|           50|          -100|\n",
      "+--------------+---------------+---------+--------------+----------------+-------------------+--------------------+-------------+--------------+\n",
      "only showing top 20 rows\n",
      "\n"
     ]
    }
   ],
   "source": [
    "trans_df.show()"
   ]
  },
  {
   "cell_type": "code",
   "execution_count": 17,
   "metadata": {
    "id": "3EiH5AorUgC6",
    "ExecuteTime": {
     "end_time": "2024-03-10T22:00:51.127363Z",
     "start_time": "2024-03-10T22:00:51.102299Z"
    }
   },
   "outputs": [],
   "source": [
    "from pyspark.sql.functions import *\n",
    "pattern = r\"\\,\"\n",
    "trans_df = trans_df.withColumn(\n",
    "    \"TransInAmount\",\n",
    "    regexp_replace(trans_df[\"TransInAmount\"], pattern, \"\")  # Replace comma with empty string\n",
    ")\n",
    "\n",
    "trans_df = trans_df.withColumn(\n",
    "    \"TransOutAmount\",\n",
    "    regexp_replace(trans_df[\"TransOutAmount\"], pattern, \"\")  # Replace comma with empty string\n",
    ")"
   ]
  },
  {
   "cell_type": "code",
   "execution_count": 18,
   "metadata": {
    "id": "SwHa0RUFVOC2",
    "colab": {
     "base_uri": "https://localhost:8080/"
    },
    "outputId": "e54cc55a-70ca-44f1-d2c2-a97763af667b",
    "ExecuteTime": {
     "end_time": "2024-03-10T22:00:53.079176Z",
     "start_time": "2024-03-10T22:00:52.907262Z"
    }
   },
   "outputs": [
    {
     "name": "stdout",
     "output_type": "stream",
     "text": [
      "+--------------+---------------+---------+--------------+----------------+-------------------+--------------------+-------------+--------------+\n",
      "|Account Number|Financial Month|     Date|Transaction No|Transaction Type|Trans Type Category|    Transaction Note|TransInAmount|TransOutAmount|\n",
      "+--------------+---------------+---------+--------------+----------------+-------------------+--------------------+-------------+--------------+\n",
      "|             7|         23-Dec|01-Dec-23|      46980801|              SD|                EFT|       Not Available|          400|             0|\n",
      "|             7|         23-Dec|08-Dec-23|      46997807|              SD|                EFT|       Not Available|          400|             0|\n",
      "|             7|         23-Dec|15-Dec-23|      47013444|              SD|                EFT|       Not Available|          400|             0|\n",
      "|             7|         23-Dec|22-Dec-23|      47030043|              SD|                EFT|       Not Available|          400|             0|\n",
      "|             7|         23-Dec|22-Dec-23|      47033716|               1|            COUNTER|       Not Available|            0|          -600|\n",
      "|             7|         23-Dec|29-Dec-23|      47043363|              SD|                EFT|       Not Available|          400|             0|\n",
      "|            10|         23-Dec|05-Dec-23|      46991883|               1|            COUNTER|       Not Available|            0|      -2117.03|\n",
      "|            10|         23-Dec|05-Dec-23|      46991885|               1|            COUNTER|       Not Available|            0|          -500|\n",
      "|            10|         23-Dec|22-Dec-23|      47033693|               1|            COUNTER|       Not Available|           75|             0|\n",
      "|            10|         23-Dec|22-Dec-23|      47033696|               1|            COUNTER|       Not Available|            0|           -75|\n",
      "|            14|         23-Dec|08-Dec-23|      47000799|               N|            COUNTER|       Not Available|            0|      -1600.00|\n",
      "|            14|         23-Dec|08-Dec-23|      47000859|               N|            COUNTER|Share transfer of...|      2500.00|      -2500.00|\n",
      "|            14|         23-Dec|14-Dec-23|      47013019|               4|            COUNTER|       Not Available|           20|             0|\n",
      "|            14|         23-Dec|21-Dec-23|      47029848|               4|            COUNTER|       Not Available|           20|             0|\n",
      "|            14|         23-Dec|29-Dec-23|      47046109|               4|            COUNTER|       Not Available|           20|             0|\n",
      "|            20|         23-Dec|06-Dec-23|      46993529|               N|            COUNTER|       Not Available|      1100.00|             0|\n",
      "|            33|         23-Dec|01-Dec-23|      46982272|             SCR|                EFT|       Not Available|        298.3|             0|\n",
      "|            33|         23-Dec|01-Dec-23|      46984861|             SDD|                EFT|       Not Available|            0|           -15|\n",
      "|            33|         23-Dec|01-Dec-23|      46984862|             SDD|                EFT|       Not Available|            0|           -15|\n",
      "|            33|         23-Dec|01-Dec-23|      46985646|            TFER|      Not Available|       Not Available|           50|          -100|\n",
      "+--------------+---------------+---------+--------------+----------------+-------------------+--------------------+-------------+--------------+\n",
      "only showing top 20 rows\n",
      "\n"
     ]
    }
   ],
   "source": [
    "trans_df.show()"
   ]
  },
  {
   "cell_type": "markdown",
   "metadata": {
    "id": "y78epg_NqztL"
   },
   "source": [
    "# Calculate Columns from `Transaction File`"
   ]
  },
  {
   "cell_type": "code",
   "execution_count": 32,
   "metadata": {
    "id": "7LeVBBOrWxaQ",
    "ExecuteTime": {
     "end_time": "2024-03-10T22:08:26.680660Z",
     "start_time": "2024-03-10T22:08:26.632047Z"
    }
   },
   "outputs": [],
   "source": [
    "trans_df = trans_df.withColumn(\"TransactionTotal\", col(\"TransInAmount\") - col(\"TransOutAmount\"))\n",
    "\n",
    "trans_df = trans_df.withColumn(\n",
    "    \"TransactionPositiveTotal\",\n",
    "    when(col(\"TransactionTotal\").isNull(), \"\").otherwise(abs(col(\"TransactionTotal\")))\n",
    ")\n",
    "\n",
    "trans_df = trans_df.withColumn(\n",
    "    \"TransForMoneyMuleAndCombined\",\n",
    "    when(col(\"TransactionPositiveTotal\") > MoneyMule, col(\"TransactionPositiveTotal\")).otherwise(0)\n",
    ")\n",
    "\n",
    "trans_df = trans_df.withColumn(\n",
    "    \"Trans Incl\",\n",
    "    when(col(\"TransactionPositiveTotal\") > 0, \"Yes\").otherwise(\"No\")\n",
    ")\n",
    "\n",
    "trans_df = trans_df.withColumn(\n",
    "    \"Account_Not_In_Use\",\n",
    "    when(col(\"Account Number\").isin(code_not_to_use), \"No\").otherwise(\"Yes\")\n",
    ")\n",
    "\n",
    "trans_df = trans_df.withColumn(\n",
    "    \"SO_SCR\",\n",
    "    when(col(\"Transaction Type\").isin(so_scr), col('Transaction Type')).otherwise(\"\")\n",
    ")\n",
    "\n",
    "# previous value = SCR and current value = s0 and next value = s0\n",
    "\n",
    "# trans_df = trans_df.withColumn(\n",
    "#     \"No1\",\n",
    "#     when(col(\"SO_SCR\").isin(so_scr), \"Y\").otherwise(\"\")\n",
    "# )\n",
    "\n",
    "# trans_df = trans_df.withColumn(\"index\", monotonically_increasing_id())"
   ]
  },
  {
   "cell_type": "code",
   "execution_count": 33,
   "outputs": [
    {
     "name": "stderr",
     "output_type": "stream",
     "text": [
      "24/03/11 01:08:43 WARN WindowExec: No Partition Defined for Window operation! Moving all data to a single partition, this can cause serious performance degradation.\n",
      "24/03/11 01:08:43 WARN WindowExec: No Partition Defined for Window operation! Moving all data to a single partition, this can cause serious performance degradation.\n",
      "24/03/11 01:08:43 WARN WindowExec: No Partition Defined for Window operation! Moving all data to a single partition, this can cause serious performance degradation.\n",
      "24/03/11 01:08:43 WARN WindowExec: No Partition Defined for Window operation! Moving all data to a single partition, this can cause serious performance degradation.\n",
      "24/03/11 01:08:43 WARN WindowExec: No Partition Defined for Window operation! Moving all data to a single partition, this can cause serious performance degradation.\n",
      "24/03/11 01:08:43 WARN WindowExec: No Partition Defined for Window operation! Moving all data to a single partition, this can cause serious performance degradation.\n",
      "24/03/11 01:08:43 WARN WindowExec: No Partition Defined for Window operation! Moving all data to a single partition, this can cause serious performance degradation.\n",
      "24/03/11 01:08:43 WARN WindowExec: No Partition Defined for Window operation! Moving all data to a single partition, this can cause serious performance degradation.\n"
     ]
    },
    {
     "name": "stdout",
     "output_type": "stream",
     "text": [
      "+--------------+---------------+---------+--------------+----------------+-------------------+----------------+-------------+--------------+----------------+------------------------+----------------------------+----------+------------------+------+---+-----+----------+----------+\n",
      "|Account Number|Financial Month|Date     |Transaction No|Transaction Type|Trans Type Category|Transaction Note|TransInAmount|TransOutAmount|TransactionTotal|TransactionPositiveTotal|TransForMoneyMuleAndCombined|Trans Incl|Account_Not_In_Use|SO_SCR|No1|index|prev_value|next_value|\n",
      "+--------------+---------------+---------+--------------+----------------+-------------------+----------------+-------------+--------------+----------------+------------------------+----------------------------+----------+------------------+------+---+-----+----------+----------+\n",
      "|NULL          |NULL           |NULL     |NULL          |NULL            |NULL               |NULL            |NULL         |NULL          |NULL            |                        |0                           |No        |Yes               |      |   |66987|NULL      |          |\n",
      "|NULL          |NULL           |NULL     |NULL          |NULL            |NULL               |NULL            |6717944.49   |-6544681.78   |1.326262627E7   |1.326262627E7           |1.326262627E7               |No        |Yes               |      |   |66988|          |          |\n",
      "|10            |23-Dec         |05-Dec-23|46991883      |1               |COUNTER            |Not Available   |0            |-2117.03      |2117.03         |2117.03                 |2117.03                     |Yes       |Yes               |      |   |6    |          |          |\n",
      "|10            |23-Dec         |05-Dec-23|46991885      |1               |COUNTER            |Not Available   |0            |-500          |500.0           |500.0                   |500.0                       |Yes       |Yes               |      |   |7    |          |          |\n",
      "|10            |23-Dec         |22-Dec-23|47033693      |1               |COUNTER            |Not Available   |75           |0             |75.0            |75.0                    |75.0                        |Yes       |Yes               |      |   |8    |          |          |\n",
      "|10            |23-Dec         |22-Dec-23|47033696      |1               |COUNTER            |Not Available   |0            |-75           |75.0            |75.0                    |75.0                        |Yes       |Yes               |      |   |9    |          |SO        |\n",
      "|1000          |23-Dec         |01-Dec-23|46982713      |SO              |EFT                |Not Available   |40           |0             |40.0            |40.0                    |0                           |Yes       |Yes               |SO    |Y  |855  |          |SO        |\n",
      "|1000          |23-Dec         |08-Dec-23|46999606      |SO              |EFT                |Not Available   |40           |0             |40.0            |40.0                    |0                           |Yes       |Yes               |SO    |Y  |856  |SO        |SO        |\n",
      "|1000          |23-Dec         |15-Dec-23|47015220      |SO              |EFT                |Not Available   |40           |0             |40.0            |40.0                    |0                           |Yes       |Yes               |SO    |Y  |857  |SO        |SO        |\n",
      "|1000          |23-Dec         |22-Dec-23|47031766      |SO              |EFT                |Not Available   |40           |0             |40.0            |40.0                    |0                           |Yes       |Yes               |SO    |Y  |858  |SO        |SO        |\n",
      "|1000          |23-Dec         |29-Dec-23|47044936      |SO              |EFT                |Not Available   |40           |0             |40.0            |40.0                    |0                           |Yes       |Yes               |SO    |Y  |859  |SO        |          |\n",
      "|10003         |23-Dec         |08-Dec-23|46998025      |SD              |EFT                |Not Available   |120          |0             |120.0           |120.0                   |120.0                       |Yes       |Yes               |      |   |10120|SO        |          |\n",
      "|10006         |23-Dec         |01-Dec-23|46984133      |0               |COUNTER            |Not Available   |150          |0             |150.0           |150.0                   |150.0                       |Yes       |Yes               |      |   |10121|          |          |\n",
      "|10006         |23-Dec         |07-Dec-23|46996840      |0               |COUNTER            |Not Available   |150          |0             |150.0           |150.0                   |150.0                       |Yes       |Yes               |      |   |10122|          |          |\n",
      "|10006         |23-Dec         |15-Dec-23|47016791      |0               |COUNTER            |Not Available   |150          |0             |150.0           |150.0                   |150.0                       |Yes       |Yes               |      |   |10123|          |          |\n",
      "|10006         |23-Dec         |22-Dec-23|47034297      |0               |COUNTER            |Not Available   |150          |0             |150.0           |150.0                   |150.0                       |Yes       |Yes               |      |   |10124|          |          |\n",
      "|10006         |23-Dec         |29-Dec-23|47047342      |0               |COUNTER            |Not Available   |150          |0             |150.0           |150.0                   |150.0                       |Yes       |Yes               |      |   |10125|          |          |\n",
      "|10009         |23-Dec         |04-Dec-23|46989449      |1               |COUNTER            |Not Available   |50           |0             |50.0            |50.0                    |0                           |Yes       |Yes               |      |   |10126|          |          |\n",
      "|10009         |23-Dec         |14-Dec-23|47013194      |1               |COUNTER            |Not Available   |0            |-240          |240.0           |240.0                   |240.0                       |Yes       |Yes               |      |   |10127|          |          |\n",
      "|10010         |23-Dec         |04-Dec-23|46989450      |1               |COUNTER            |Not Available   |20           |0             |20.0            |20.0                    |0                           |Yes       |Yes               |      |   |10128|          |          |\n",
      "+--------------+---------------+---------+--------------+----------------+-------------------+----------------+-------------+--------------+----------------+------------------------+----------------------------+----------+------------------+------+---+-----+----------+----------+\n",
      "only showing top 20 rows\n",
      "\n"
     ]
    },
    {
     "name": "stderr",
     "output_type": "stream",
     "text": [
      "24/03/11 01:08:44 WARN WindowExec: No Partition Defined for Window operation! Moving all data to a single partition, this can cause serious performance degradation.\n",
      "24/03/11 01:08:44 WARN WindowExec: No Partition Defined for Window operation! Moving all data to a single partition, this can cause serious performance degradation.\n",
      "                                                                                \r"
     ]
    }
   ],
   "source": [
    "from pyspark.sql import SparkSession\n",
    "from pyspark.sql.window import Window\n",
    "from pyspark.sql.functions import col, lag, lead\n",
    "\n",
    "windowSpec = Window.orderBy(\"Account Number\")\n",
    "\n",
    "# Add columns for previous and next values\n",
    "df_with_prev_next = trans_df.withColumn(\"prev_value\", lag(\"SO_SCR\", 1).over(windowSpec)) \\\n",
    "    .withColumn(\"next_value\", lead(\"SO_SCR\", 1).over(windowSpec))\n",
    "\n",
    "# Filter based on your conditions\n",
    "df_filtered = df_with_prev_next.filter(\n",
    "    (col(\"prev_value\") == \"SCR\") &\n",
    "    (col(\"SO_SCR\") == \"s0\") &\n",
    "    (col(\"next_value\") == \"s0\")\n",
    ")\n",
    "\n",
    "# Show the result\n",
    "df_with_prev_next.show(truncate=False)\n",
    "df_filtered.write.csv('/Users/Marium_Faheem/Library/CloudStorage/OneDrive-McKinsey&Company/Desktop/learning/maham-df/df_filtered.csv', header=True, mode=\"overwrite\")"
   ],
   "metadata": {
    "collapsed": false,
    "ExecuteTime": {
     "end_time": "2024-03-10T22:08:44.922605Z",
     "start_time": "2024-03-10T22:08:43.150609Z"
    }
   }
  },
  {
   "cell_type": "code",
   "execution_count": 17,
   "metadata": {
    "id": "m85-hkGbYB1b",
    "colab": {
     "base_uri": "https://localhost:8080/"
    },
    "outputId": "f547ad9d-48fa-4d1b-eac2-8ff87f1fa6fb"
   },
   "outputs": [
    {
     "output_type": "stream",
     "name": "stdout",
     "text": [
      "+--------------+---------------+---------+--------------+----------------+-------------------+--------------------+-------------+--------------+----------------+------------------------+----------------------------+----------+------------------+------+---+-----+\n",
      "|Account Number|Financial Month|     Date|Transaction No|Transaction Type|Trans Type Category|    Transaction Note|TransInAmount|TransOutAmount|TransactionTotal|TransactionPositiveTotal|TransForMoneyMuleAndCombined|Trans Incl|Account_Not_In_Use|SO_SCR|No1|index|\n",
      "+--------------+---------------+---------+--------------+----------------+-------------------+--------------------+-------------+--------------+----------------+------------------------+----------------------------+----------+------------------+------+---+-----+\n",
      "|             7|         23-Dec|01-Dec-23|      46980801|              SD|                EFT|       Not Available|          400|             0|           400.0|                   400.0|                       400.0|       Yes|               Yes|      |   |    0|\n",
      "|             7|         23-Dec|08-Dec-23|      46997807|              SD|                EFT|       Not Available|          400|             0|           400.0|                   400.0|                       400.0|       Yes|               Yes|      |   |    1|\n",
      "|             7|         23-Dec|15-Dec-23|      47013444|              SD|                EFT|       Not Available|          400|             0|           400.0|                   400.0|                       400.0|       Yes|               Yes|      |   |    2|\n",
      "|             7|         23-Dec|22-Dec-23|      47030043|              SD|                EFT|       Not Available|          400|             0|           400.0|                   400.0|                       400.0|       Yes|               Yes|      |   |    3|\n",
      "|             7|         23-Dec|22-Dec-23|      47033716|               1|            COUNTER|       Not Available|            0|          -600|           600.0|                   600.0|                       600.0|       Yes|               Yes|      |   |    4|\n",
      "|             7|         23-Dec|29-Dec-23|      47043363|              SD|                EFT|       Not Available|          400|             0|           400.0|                   400.0|                       400.0|       Yes|               Yes|      |   |    5|\n",
      "|            10|         23-Dec|05-Dec-23|      46991883|               1|            COUNTER|       Not Available|            0|      -2117.03|         2117.03|                 2117.03|                     2117.03|       Yes|               Yes|      |   |    6|\n",
      "|            10|         23-Dec|05-Dec-23|      46991885|               1|            COUNTER|       Not Available|            0|          -500|           500.0|                   500.0|                       500.0|       Yes|               Yes|      |   |    7|\n",
      "|            10|         23-Dec|22-Dec-23|      47033693|               1|            COUNTER|       Not Available|           75|             0|            75.0|                    75.0|                        75.0|       Yes|               Yes|      |   |    8|\n",
      "|            10|         23-Dec|22-Dec-23|      47033696|               1|            COUNTER|       Not Available|            0|           -75|            75.0|                    75.0|                        75.0|       Yes|               Yes|      |   |    9|\n",
      "|            14|         23-Dec|08-Dec-23|      47000799|               N|            COUNTER|       Not Available|            0|      -1600.00|          1600.0|                  1600.0|                      1600.0|       Yes|               Yes|      |   |   10|\n",
      "|            14|         23-Dec|08-Dec-23|      47000859|               N|            COUNTER|Share transfer of...|      2500.00|      -2500.00|          5000.0|                  5000.0|                      5000.0|       Yes|               Yes|      |   |   11|\n",
      "|            14|         23-Dec|14-Dec-23|      47013019|               4|            COUNTER|       Not Available|           20|             0|            20.0|                    20.0|                           0|       Yes|               Yes|      |   |   12|\n",
      "|            14|         23-Dec|21-Dec-23|      47029848|               4|            COUNTER|       Not Available|           20|             0|            20.0|                    20.0|                           0|       Yes|               Yes|      |   |   13|\n",
      "|            14|         23-Dec|29-Dec-23|      47046109|               4|            COUNTER|       Not Available|           20|             0|            20.0|                    20.0|                           0|       Yes|               Yes|      |   |   14|\n",
      "|            20|         23-Dec|06-Dec-23|      46993529|               N|            COUNTER|       Not Available|      1100.00|             0|          1100.0|                  1100.0|                      1100.0|       Yes|               Yes|      |   |   15|\n",
      "|            33|         23-Dec|01-Dec-23|      46982272|             SCR|                EFT|       Not Available|        298.3|             0|           298.3|                   298.3|                       298.3|       Yes|               Yes|   SCR|  Y|   16|\n",
      "|            33|         23-Dec|01-Dec-23|      46984861|             SDD|                EFT|       Not Available|            0|           -15|            15.0|                    15.0|                           0|       Yes|               Yes|      |   |   17|\n",
      "|            33|         23-Dec|01-Dec-23|      46984862|             SDD|                EFT|       Not Available|            0|           -15|            15.0|                    15.0|                           0|       Yes|               Yes|      |   |   18|\n",
      "|            33|         23-Dec|01-Dec-23|      46985646|            TFER|      Not Available|       Not Available|           50|          -100|           150.0|                   150.0|                       150.0|       Yes|               Yes|      |   |   19|\n",
      "+--------------+---------------+---------+--------------+----------------+-------------------+--------------------+-------------+--------------+----------------+------------------------+----------------------------+----------+------------------+------+---+-----+\n",
      "only showing top 20 rows\n",
      "\n"
     ]
    }
   ],
   "source": [
    "trans_df.show()"
   ]
  },
  {
   "cell_type": "code",
   "execution_count": 18,
   "metadata": {
    "id": "ETA64g7Zp2bz",
    "colab": {
     "base_uri": "https://localhost:8080/"
    },
    "outputId": "ff20e8c4-789d-49a5-ecc4-2c045b9490bb"
   },
   "outputs": [
    {
     "output_type": "stream",
     "name": "stdout",
     "text": [
      "+--------------+---------------+---------+--------------+----------------+-------------------+--------------------+-------------+--------------+----------------+------------------------+----------------------------+----------+------------------+------+---+-----+---+\n",
      "|Account Number|Financial Month|     Date|Transaction No|Transaction Type|Trans Type Category|    Transaction Note|TransInAmount|TransOutAmount|TransactionTotal|TransactionPositiveTotal|TransForMoneyMuleAndCombined|Trans Incl|Account_Not_In_Use|SO_SCR|No1|index|No2|\n",
      "+--------------+---------------+---------+--------------+----------------+-------------------+--------------------+-------------+--------------+----------------+------------------------+----------------------------+----------+------------------+------+---+-----+---+\n",
      "|             7|         23-Dec|01-Dec-23|      46980801|              SD|                EFT|       Not Available|          400|             0|           400.0|                   400.0|                       400.0|       Yes|               Yes|      |   |    0|   |\n",
      "|             7|         23-Dec|08-Dec-23|      46997807|              SD|                EFT|       Not Available|          400|             0|           400.0|                   400.0|                       400.0|       Yes|               Yes|      |   |    1|   |\n",
      "|             7|         23-Dec|15-Dec-23|      47013444|              SD|                EFT|       Not Available|          400|             0|           400.0|                   400.0|                       400.0|       Yes|               Yes|      |   |    2|   |\n",
      "|             7|         23-Dec|22-Dec-23|      47030043|              SD|                EFT|       Not Available|          400|             0|           400.0|                   400.0|                       400.0|       Yes|               Yes|      |   |    3|   |\n",
      "|             7|         23-Dec|22-Dec-23|      47033716|               1|            COUNTER|       Not Available|            0|          -600|           600.0|                   600.0|                       600.0|       Yes|               Yes|      |   |    4|   |\n",
      "|             7|         23-Dec|29-Dec-23|      47043363|              SD|                EFT|       Not Available|          400|             0|           400.0|                   400.0|                       400.0|       Yes|               Yes|      |   |    5|   |\n",
      "|            10|         23-Dec|05-Dec-23|      46991883|               1|            COUNTER|       Not Available|            0|      -2117.03|         2117.03|                 2117.03|                     2117.03|       Yes|               Yes|      |   |    6|   |\n",
      "|            10|         23-Dec|05-Dec-23|      46991885|               1|            COUNTER|       Not Available|            0|          -500|           500.0|                   500.0|                       500.0|       Yes|               Yes|      |   |    7|   |\n",
      "|            10|         23-Dec|22-Dec-23|      47033693|               1|            COUNTER|       Not Available|           75|             0|            75.0|                    75.0|                        75.0|       Yes|               Yes|      |   |    8|   |\n",
      "|            10|         23-Dec|22-Dec-23|      47033696|               1|            COUNTER|       Not Available|            0|           -75|            75.0|                    75.0|                        75.0|       Yes|               Yes|      |   |    9|   |\n",
      "|            14|         23-Dec|08-Dec-23|      47000799|               N|            COUNTER|       Not Available|            0|      -1600.00|          1600.0|                  1600.0|                      1600.0|       Yes|               Yes|      |   |   10|   |\n",
      "|            14|         23-Dec|08-Dec-23|      47000859|               N|            COUNTER|Share transfer of...|      2500.00|      -2500.00|          5000.0|                  5000.0|                      5000.0|       Yes|               Yes|      |   |   11|   |\n",
      "|            14|         23-Dec|14-Dec-23|      47013019|               4|            COUNTER|       Not Available|           20|             0|            20.0|                    20.0|                           0|       Yes|               Yes|      |   |   12|   |\n",
      "|            14|         23-Dec|21-Dec-23|      47029848|               4|            COUNTER|       Not Available|           20|             0|            20.0|                    20.0|                           0|       Yes|               Yes|      |   |   13|   |\n",
      "|            14|         23-Dec|29-Dec-23|      47046109|               4|            COUNTER|       Not Available|           20|             0|            20.0|                    20.0|                           0|       Yes|               Yes|      |   |   14|   |\n",
      "|            20|         23-Dec|06-Dec-23|      46993529|               N|            COUNTER|       Not Available|      1100.00|             0|          1100.0|                  1100.0|                      1100.0|       Yes|               Yes|      |   |   15|   |\n",
      "|            33|         23-Dec|01-Dec-23|      46982272|             SCR|                EFT|       Not Available|        298.3|             0|           298.3|                   298.3|                       298.3|       Yes|               Yes|   SCR|  Y|   16|  Y|\n",
      "|            33|         23-Dec|01-Dec-23|      46984861|             SDD|                EFT|       Not Available|            0|           -15|            15.0|                    15.0|                           0|       Yes|               Yes|      |   |   17|   |\n",
      "|            33|         23-Dec|01-Dec-23|      46984862|             SDD|                EFT|       Not Available|            0|           -15|            15.0|                    15.0|                           0|       Yes|               Yes|      |   |   18|   |\n",
      "|            33|         23-Dec|01-Dec-23|      46985646|            TFER|      Not Available|       Not Available|           50|          -100|           150.0|                   150.0|                       150.0|       Yes|               Yes|      |   |   19|   |\n",
      "+--------------+---------------+---------+--------------+----------------+-------------------+--------------------+-------------+--------------+----------------+------------------------+----------------------------+----------+------------------+------+---+-----+---+\n",
      "only showing top 20 rows\n",
      "\n"
     ]
    }
   ],
   "source": [
    "# trans_df.withColumn(\n",
    "#     \"No2\",\n",
    "#     when((col(\"No1\") == \"Y\") & (col('SO_SCR') == \"SO\" || \"SCR\"), \"Y\").otherwise(\"\")\n",
    "# ).show()\n",
    "# trans_df.withColumn(\n",
    "#     \"No2\",\n",
    "#     when((col(\"No1\") == \"Y\") & (col('SO_SCR').isin(\"SO\", \"SCR\")), \"Y\").otherwise(\"\")\n",
    "# ).show()\n",
    "\n",
    "\n",
    "\n",
    "trans_df.withColumn(\n",
    "    \"No2\",\n",
    "    when((col(\"No1\") == \"Y\") & ((col('SO_SCR') == \"SO\") | (col('SO_SCR') == \"SCR\")), \"Y\").otherwise(\"\")\n",
    ").show()"
   ]
  },
  {
   "cell_type": "code",
   "execution_count": 19,
   "metadata": {
    "id": "cGGPlM0ENnrv",
    "colab": {
     "base_uri": "https://localhost:8080/"
    },
    "outputId": "01cfa534-9b79-4745-e2d9-30768ad916d1"
   },
   "outputs": [
    {
     "output_type": "stream",
     "name": "stdout",
     "text": [
      "+--------------+---------------+---------+--------------+----------------+-------------------+--------------------+-------------+--------------+----------------+------------------------+----------------------------+----------+------------------+------+---+-----+---+\n",
      "|Account Number|Financial Month|     Date|Transaction No|Transaction Type|Trans Type Category|    Transaction Note|TransInAmount|TransOutAmount|TransactionTotal|TransactionPositiveTotal|TransForMoneyMuleAndCombined|Trans Incl|Account_Not_In_Use|SO_SCR|No1|index|No2|\n",
      "+--------------+---------------+---------+--------------+----------------+-------------------+--------------------+-------------+--------------+----------------+------------------------+----------------------------+----------+------------------+------+---+-----+---+\n",
      "|             7|         23-Dec|01-Dec-23|      46980801|              SD|                EFT|       Not Available|          400|             0|           400.0|                   400.0|                       400.0|       Yes|               Yes|      |   |    0|   |\n",
      "|             7|         23-Dec|08-Dec-23|      46997807|              SD|                EFT|       Not Available|          400|             0|           400.0|                   400.0|                       400.0|       Yes|               Yes|      |   |    1|   |\n",
      "|             7|         23-Dec|15-Dec-23|      47013444|              SD|                EFT|       Not Available|          400|             0|           400.0|                   400.0|                       400.0|       Yes|               Yes|      |   |    2|   |\n",
      "|             7|         23-Dec|22-Dec-23|      47030043|              SD|                EFT|       Not Available|          400|             0|           400.0|                   400.0|                       400.0|       Yes|               Yes|      |   |    3|   |\n",
      "|             7|         23-Dec|22-Dec-23|      47033716|               1|            COUNTER|       Not Available|            0|          -600|           600.0|                   600.0|                       600.0|       Yes|               Yes|      |   |    4|   |\n",
      "|             7|         23-Dec|29-Dec-23|      47043363|              SD|                EFT|       Not Available|          400|             0|           400.0|                   400.0|                       400.0|       Yes|               Yes|      |   |    5|   |\n",
      "|            10|         23-Dec|05-Dec-23|      46991883|               1|            COUNTER|       Not Available|            0|      -2117.03|         2117.03|                 2117.03|                     2117.03|       Yes|               Yes|      |   |    6|   |\n",
      "|            10|         23-Dec|05-Dec-23|      46991885|               1|            COUNTER|       Not Available|            0|          -500|           500.0|                   500.0|                       500.0|       Yes|               Yes|      |   |    7|   |\n",
      "|            10|         23-Dec|22-Dec-23|      47033693|               1|            COUNTER|       Not Available|           75|             0|            75.0|                    75.0|                        75.0|       Yes|               Yes|      |   |    8|   |\n",
      "|            10|         23-Dec|22-Dec-23|      47033696|               1|            COUNTER|       Not Available|            0|           -75|            75.0|                    75.0|                        75.0|       Yes|               Yes|      |   |    9|   |\n",
      "|            14|         23-Dec|08-Dec-23|      47000799|               N|            COUNTER|       Not Available|            0|      -1600.00|          1600.0|                  1600.0|                      1600.0|       Yes|               Yes|      |   |   10|   |\n",
      "|            14|         23-Dec|08-Dec-23|      47000859|               N|            COUNTER|Share transfer of...|      2500.00|      -2500.00|          5000.0|                  5000.0|                      5000.0|       Yes|               Yes|      |   |   11|   |\n",
      "|            14|         23-Dec|14-Dec-23|      47013019|               4|            COUNTER|       Not Available|           20|             0|            20.0|                    20.0|                           0|       Yes|               Yes|      |   |   12|   |\n",
      "|            14|         23-Dec|21-Dec-23|      47029848|               4|            COUNTER|       Not Available|           20|             0|            20.0|                    20.0|                           0|       Yes|               Yes|      |   |   13|   |\n",
      "|            14|         23-Dec|29-Dec-23|      47046109|               4|            COUNTER|       Not Available|           20|             0|            20.0|                    20.0|                           0|       Yes|               Yes|      |   |   14|   |\n",
      "|            20|         23-Dec|06-Dec-23|      46993529|               N|            COUNTER|       Not Available|      1100.00|             0|          1100.0|                  1100.0|                      1100.0|       Yes|               Yes|      |   |   15|   |\n",
      "|            33|         23-Dec|01-Dec-23|      46982272|             SCR|                EFT|       Not Available|        298.3|             0|           298.3|                   298.3|                       298.3|       Yes|               Yes|   SCR|  Y|   16|   |\n",
      "|            33|         23-Dec|01-Dec-23|      46984861|             SDD|                EFT|       Not Available|            0|           -15|            15.0|                    15.0|                           0|       Yes|               Yes|      |   |   17|   |\n",
      "|            33|         23-Dec|01-Dec-23|      46984862|             SDD|                EFT|       Not Available|            0|           -15|            15.0|                    15.0|                           0|       Yes|               Yes|      |   |   18|   |\n",
      "|            33|         23-Dec|01-Dec-23|      46985646|            TFER|      Not Available|       Not Available|           50|          -100|           150.0|                   150.0|                       150.0|       Yes|               Yes|      |   |   19|   |\n",
      "+--------------+---------------+---------+--------------+----------------+-------------------+--------------------+-------------+--------------+----------------+------------------------+----------------------------+----------+------------------+------+---+-----+---+\n",
      "only showing top 20 rows\n",
      "\n"
     ]
    }
   ],
   "source": [
    "# Define a function to check the value of \"No1\" for the previous record\n",
    "def check_previous_no1(index, no1_values):\n",
    "    if index == 0:\n",
    "        return \"\"\n",
    "    else:\n",
    "        return no1_values[index - 1]\n",
    "\n",
    "# Register the function as a UDF\n",
    "spark.udf.register(\"check_previous_no1\", check_previous_no1)\n",
    "\n",
    "# Add a new column \"prev_No1\" containing the value of \"No1\" from the previous record\n",
    "trans_df = trans_df.withColumn(\"prev_No1\", expr(\"check_previous_no1(index, collect_list(No1) over (order by index))\"))\n",
    "\n",
    "# Apply the condition based on the previous records of \"No1\" and \"SO_SCR\"\n",
    "trans_df = trans_df.withColumn(\n",
    "    \"No2\",\n",
    "    when((col(\"No1\") == \"Y\") & ((col('SO_SCR') == \"SO\") | (col('SO_SCR') == \"SCR\")) & (col(\"prev_No1\") == \"Y\"), \"Y\").otherwise(\"\")\n",
    ")\n",
    "\n",
    "# Drop the intermediate column \"prev_No1\" if not needed\n",
    "trans_df = trans_df.drop(\"prev_No1\")\n",
    "\n",
    "# Show the DataFrame with the new \"No2\" column\n",
    "trans_df.show()"
   ]
  },
  {
   "cell_type": "code",
   "execution_count": 20,
   "metadata": {
    "id": "zNlEs3ppYyw2",
    "colab": {
     "base_uri": "https://localhost:8080/"
    },
    "outputId": "fdf36c4c-3c8a-4da6-d421-836eaa4ad65a"
   },
   "outputs": [
    {
     "output_type": "execute_result",
     "data": {
      "text/plain": [
       "DataFrame[Account Number: string, Financial Month: string, Date: string, Transaction No: string, Transaction Type: string, Trans Type Category: string, Transaction Note: string, TransInAmount: string, TransOutAmount: string, TransactionTotal: double, TransactionPositiveTotal: string, TransForMoneyMuleAndCombined: string, Trans Incl: string, Account_Not_In_Use: string, SO_SCR: string, No1: string, index: bigint, No2: string, No3: string]"
      ]
     },
     "metadata": {},
     "execution_count": 20
    }
   ],
   "source": [
    "trans_df.withColumn(\n",
    "    \"No3\",\n",
    "    when((col(\"No1\") == \"Y\") & ((col('No2') == \"Y\")), \"Y\").otherwise(\"\")\n",
    ")"
   ]
  },
  {
   "cell_type": "code",
   "execution_count": 21,
   "metadata": {
    "id": "nul48VfRRb8R"
   },
   "outputs": [],
   "source": [
    "from pyspark.sql.functions import lag, col, when\n",
    "from pyspark.sql.window import Window\n",
    "\n",
    "# Define a window specification to order the records\n",
    "windowSpec = Window.orderBy('index')\n",
    "\n",
    "# Add a new column \"prev_Transaction_Total\" containing the value of \"Transaction Total\" from the previous record\n",
    "trans_df = trans_df.withColumn(\"prev_Transaction_Total\", lag(col(\"TransactionTotal\"), 1).over(windowSpec))\n",
    "\n",
    "# Add a new column \"No3\" based on conditions of \"No1\" and \"No2\"\n",
    "trans_df = trans_df.withColumn(\n",
    "    \"No3\",\n",
    "    when((col(\"No1\") == \"Y\") & (col(\"No2\") == \"Y\") & (col(\"TransactionTotal\") == col(\"prev_Transaction_Total\")), \"Y\").otherwise(\"\")\n",
    ")\n",
    "\n",
    "# Drop the intermediate column \"prev_Transaction_Total\" if not needed\n",
    "trans_df = trans_df.drop(\"prev_Transaction_Total\")\n",
    "\n",
    "# Show the DataFrame with the new \"No3\" column\n",
    "\n"
   ]
  },
  {
   "cell_type": "code",
   "execution_count": 22,
   "metadata": {
    "id": "SIPn5t2-Sd9H"
   },
   "outputs": [],
   "source": [
    "trans_df = trans_df.drop(\"prev_Transaction_Total\")"
   ]
  },
  {
   "cell_type": "code",
   "execution_count": 23,
   "metadata": {
    "id": "T5xxGXAbRuwU",
    "colab": {
     "base_uri": "https://localhost:8080/"
    },
    "outputId": "f75d1151-c680-49d2-a741-91753358f663"
   },
   "outputs": [
    {
     "output_type": "stream",
     "name": "stdout",
     "text": [
      "+--------------+---------------+---------+--------------+----------------+-------------------+--------------------+-------------+--------------+----------------+------------------------+----------------------------+----------+------------------+------+---+-----+---+---+\n",
      "|Account Number|Financial Month|     Date|Transaction No|Transaction Type|Trans Type Category|    Transaction Note|TransInAmount|TransOutAmount|TransactionTotal|TransactionPositiveTotal|TransForMoneyMuleAndCombined|Trans Incl|Account_Not_In_Use|SO_SCR|No1|index|No2|No3|\n",
      "+--------------+---------------+---------+--------------+----------------+-------------------+--------------------+-------------+--------------+----------------+------------------------+----------------------------+----------+------------------+------+---+-----+---+---+\n",
      "|             7|         23-Dec|01-Dec-23|      46980801|              SD|                EFT|       Not Available|          400|             0|           400.0|                   400.0|                       400.0|       Yes|               Yes|      |   |    0|   |   |\n",
      "|             7|         23-Dec|08-Dec-23|      46997807|              SD|                EFT|       Not Available|          400|             0|           400.0|                   400.0|                       400.0|       Yes|               Yes|      |   |    1|   |   |\n",
      "|             7|         23-Dec|15-Dec-23|      47013444|              SD|                EFT|       Not Available|          400|             0|           400.0|                   400.0|                       400.0|       Yes|               Yes|      |   |    2|   |   |\n",
      "|             7|         23-Dec|22-Dec-23|      47030043|              SD|                EFT|       Not Available|          400|             0|           400.0|                   400.0|                       400.0|       Yes|               Yes|      |   |    3|   |   |\n",
      "|             7|         23-Dec|22-Dec-23|      47033716|               1|            COUNTER|       Not Available|            0|          -600|           600.0|                   600.0|                       600.0|       Yes|               Yes|      |   |    4|   |   |\n",
      "|             7|         23-Dec|29-Dec-23|      47043363|              SD|                EFT|       Not Available|          400|             0|           400.0|                   400.0|                       400.0|       Yes|               Yes|      |   |    5|   |   |\n",
      "|            10|         23-Dec|05-Dec-23|      46991883|               1|            COUNTER|       Not Available|            0|      -2117.03|         2117.03|                 2117.03|                     2117.03|       Yes|               Yes|      |   |    6|   |   |\n",
      "|            10|         23-Dec|05-Dec-23|      46991885|               1|            COUNTER|       Not Available|            0|          -500|           500.0|                   500.0|                       500.0|       Yes|               Yes|      |   |    7|   |   |\n",
      "|            10|         23-Dec|22-Dec-23|      47033693|               1|            COUNTER|       Not Available|           75|             0|            75.0|                    75.0|                        75.0|       Yes|               Yes|      |   |    8|   |   |\n",
      "|            10|         23-Dec|22-Dec-23|      47033696|               1|            COUNTER|       Not Available|            0|           -75|            75.0|                    75.0|                        75.0|       Yes|               Yes|      |   |    9|   |   |\n",
      "|            14|         23-Dec|08-Dec-23|      47000799|               N|            COUNTER|       Not Available|            0|      -1600.00|          1600.0|                  1600.0|                      1600.0|       Yes|               Yes|      |   |   10|   |   |\n",
      "|            14|         23-Dec|08-Dec-23|      47000859|               N|            COUNTER|Share transfer of...|      2500.00|      -2500.00|          5000.0|                  5000.0|                      5000.0|       Yes|               Yes|      |   |   11|   |   |\n",
      "|            14|         23-Dec|14-Dec-23|      47013019|               4|            COUNTER|       Not Available|           20|             0|            20.0|                    20.0|                           0|       Yes|               Yes|      |   |   12|   |   |\n",
      "|            14|         23-Dec|21-Dec-23|      47029848|               4|            COUNTER|       Not Available|           20|             0|            20.0|                    20.0|                           0|       Yes|               Yes|      |   |   13|   |   |\n",
      "|            14|         23-Dec|29-Dec-23|      47046109|               4|            COUNTER|       Not Available|           20|             0|            20.0|                    20.0|                           0|       Yes|               Yes|      |   |   14|   |   |\n",
      "|            20|         23-Dec|06-Dec-23|      46993529|               N|            COUNTER|       Not Available|      1100.00|             0|          1100.0|                  1100.0|                      1100.0|       Yes|               Yes|      |   |   15|   |   |\n",
      "|            33|         23-Dec|01-Dec-23|      46982272|             SCR|                EFT|       Not Available|        298.3|             0|           298.3|                   298.3|                       298.3|       Yes|               Yes|   SCR|  Y|   16|   |   |\n",
      "|            33|         23-Dec|01-Dec-23|      46984861|             SDD|                EFT|       Not Available|            0|           -15|            15.0|                    15.0|                           0|       Yes|               Yes|      |   |   17|   |   |\n",
      "|            33|         23-Dec|01-Dec-23|      46984862|             SDD|                EFT|       Not Available|            0|           -15|            15.0|                    15.0|                           0|       Yes|               Yes|      |   |   18|   |   |\n",
      "|            33|         23-Dec|01-Dec-23|      46985646|            TFER|      Not Available|       Not Available|           50|          -100|           150.0|                   150.0|                       150.0|       Yes|               Yes|      |   |   19|   |   |\n",
      "+--------------+---------------+---------+--------------+----------------+-------------------+--------------------+-------------+--------------+----------------+------------------------+----------------------------+----------+------------------+------+---+-----+---+---+\n",
      "only showing top 20 rows\n",
      "\n"
     ]
    }
   ],
   "source": [
    "trans_df.show()"
   ]
  },
  {
   "cell_type": "markdown",
   "metadata": {
    "id": "jC0KfTOMqgrT"
   },
   "source": [
    "# Member File"
   ]
  },
  {
   "cell_type": "code",
   "execution_count": 24,
   "metadata": {
    "id": "1vRh6IcbhAfi",
    "colab": {
     "base_uri": "https://localhost:8080/"
    },
    "outputId": "60bfb560-7783-425a-8a7d-fed3c1056785"
   },
   "outputs": [
    {
     "output_type": "stream",
     "name": "stdout",
     "text": [
      "+--------------+------------+------------------+--------------------+---+-----------+--------------+---------+-----------+\n",
      "|Account Number|Account Type| Employment Status| Employment Position|Age|Nationality|Account Status|Risk Code|Date Joined|\n",
      "+--------------+------------+------------------+--------------------+---+-----------+--------------+---------+-----------+\n",
      "|             7|      SINGLE|EMPLOYED FULL-TIME| CONSTRUCTION WORKER| 40|      IRISH|        ACTIVE|       LO|  11-Jan-90|\n",
      "|            10|      SINGLE|           RETIRED|       Not Available| 84|      IRISH|        ACTIVE|       LO|  24-Jan-90|\n",
      "|            14|      SINGLE|           RETIRED|STATE PENSION NON...| 78|      IRISH|        ACTIVE|       LO|  16-Feb-79|\n",
      "|            20|      SINGLE|           RETIRED|       STATE PENSION| 78|      IRISH|        ACTIVE|       LO|  30-Oct-67|\n",
      "|            33|      SINGLE|           RETIRED|       Not Available| 75|      IRISH|        ACTIVE|       LO|  18-Dec-67|\n",
      "|            42|      SINGLE|           RETIRED|       Not Available| 75|      IRISH|        ACTIVE|       LO|  24-Feb-79|\n",
      "|            46|      SINGLE|        UNEMPLOYED|       Not Available| 64|      IRISH|        ACTIVE|       LO|  25-Nov-92|\n",
      "|            50|      SINGLE|           RETIRED| JOINT STATE PENSION| 80|      IRISH|        ACTIVE|       LO|  22-Nov-67|\n",
      "|            53|      SINGLE|EMPLOYED PART-TIME|           SECRETARY| 56|      IRISH|        ACTIVE|       LO|  26-Jan-90|\n",
      "|            67|      SINGLE|EMPLOYED FULL-TIME|   SOCIAL CARE WRKER| 34|      IRISH|        ACTIVE|       LO|  04-Oct-02|\n",
      "|            68|      SINGLE|EMPLOYED FULL-TIME|             MANAGER| 55|      IRISH|        ACTIVE|       LO|  26-Jan-90|\n",
      "|            76|      SINGLE|     Not Available|       Not Available| 76|      IRISH|        ACTIVE|       LO|  12-Jan-68|\n",
      "|           105|      SINGLE|EMPLOYED FULL-TIME|     CUST.SERV MANGR| 60|      IRISH|        ACTIVE|       LO|  29-Jan-90|\n",
      "|           114|      SINGLE|           RETIRED|       STATE PENSION| 70|      IRISH|        ACTIVE|       LO|  27-Jul-79|\n",
      "|           127|      SINGLE|EMPLOYED PART-TIME|       Not Available| 64|      IRISH|        ACTIVE|       LO|  21-Apr-79|\n",
      "|           141|      SINGLE|           RETIRED|       STATE PENSION| 80|      IRISH|        ACTIVE|       LO|  04-May-79|\n",
      "|           147|      SINGLE|           RETIRED|             PENSION| 78|      IRISH|        ACTIVE|       LO|  11-Jan-68|\n",
      "|           150|      SINGLE|        UNEMPLOYED|  DISSABILITY INCOME| 61|      IRISH|        ACTIVE|       LO|  31-Jan-90|\n",
      "|           163|      SINGLE|           RETIRED|           PENSIONER| 71|      IRISH|        ACTIVE|       LO|  01-Feb-90|\n",
      "|           165|      SINGLE|EMPLOYED FULL-TIME|             TEACHER| 40|      IRISH|        ACTIVE|       LO|  02-Feb-90|\n",
      "+--------------+------------+------------------+--------------------+---+-----------+--------------+---------+-----------+\n",
      "only showing top 20 rows\n",
      "\n"
     ]
    }
   ],
   "source": [
    "member_df.show()"
   ]
  },
  {
   "cell_type": "markdown",
   "metadata": {
    "id": "d4abjpfqq-ha"
   },
   "source": [
    "# Joining the table"
   ]
  },
  {
   "cell_type": "code",
   "execution_count": 25,
   "metadata": {
    "id": "NTLYqaUVmhdL"
   },
   "outputs": [],
   "source": [
    "member_trans_df = trans_df.join(member_df,trans_df['Account Number']==member_df['Account Number'], how=\"inner\")\n"
   ]
  },
  {
   "cell_type": "code",
   "execution_count": 26,
   "metadata": {
    "colab": {
     "base_uri": "https://localhost:8080/"
    },
    "id": "kUZZtII6rMUM",
    "outputId": "d19f8cfc-1850-40eb-cc08-eb530b83281f"
   },
   "outputs": [
    {
     "output_type": "stream",
     "name": "stdout",
     "text": [
      "+--------------+---------------+---------+--------------+----------------+-------------------+--------------------+-------------+--------------+----------------+------------------------+----------------------------+----------+------------------+------+---+-----+---+---+--------------+------------+------------------+--------------------+---+-----------+--------------+---------+-----------+\n",
      "|Account Number|Financial Month|     Date|Transaction No|Transaction Type|Trans Type Category|    Transaction Note|TransInAmount|TransOutAmount|TransactionTotal|TransactionPositiveTotal|TransForMoneyMuleAndCombined|Trans Incl|Account_Not_In_Use|SO_SCR|No1|index|No2|No3|Account Number|Account Type| Employment Status| Employment Position|Age|Nationality|Account Status|Risk Code|Date Joined|\n",
      "+--------------+---------------+---------+--------------+----------------+-------------------+--------------------+-------------+--------------+----------------+------------------------+----------------------------+----------+------------------+------+---+-----+---+---+--------------+------------+------------------+--------------------+---+-----------+--------------+---------+-----------+\n",
      "|             7|         23-Dec|01-Dec-23|      46980801|              SD|                EFT|       Not Available|          400|             0|           400.0|                   400.0|                       400.0|       Yes|               Yes|      |   |    0|   |   |             7|      SINGLE|EMPLOYED FULL-TIME| CONSTRUCTION WORKER| 40|      IRISH|        ACTIVE|       LO|  11-Jan-90|\n",
      "|             7|         23-Dec|08-Dec-23|      46997807|              SD|                EFT|       Not Available|          400|             0|           400.0|                   400.0|                       400.0|       Yes|               Yes|      |   |    1|   |   |             7|      SINGLE|EMPLOYED FULL-TIME| CONSTRUCTION WORKER| 40|      IRISH|        ACTIVE|       LO|  11-Jan-90|\n",
      "|             7|         23-Dec|15-Dec-23|      47013444|              SD|                EFT|       Not Available|          400|             0|           400.0|                   400.0|                       400.0|       Yes|               Yes|      |   |    2|   |   |             7|      SINGLE|EMPLOYED FULL-TIME| CONSTRUCTION WORKER| 40|      IRISH|        ACTIVE|       LO|  11-Jan-90|\n",
      "|             7|         23-Dec|22-Dec-23|      47030043|              SD|                EFT|       Not Available|          400|             0|           400.0|                   400.0|                       400.0|       Yes|               Yes|      |   |    3|   |   |             7|      SINGLE|EMPLOYED FULL-TIME| CONSTRUCTION WORKER| 40|      IRISH|        ACTIVE|       LO|  11-Jan-90|\n",
      "|             7|         23-Dec|22-Dec-23|      47033716|               1|            COUNTER|       Not Available|            0|          -600|           600.0|                   600.0|                       600.0|       Yes|               Yes|      |   |    4|   |   |             7|      SINGLE|EMPLOYED FULL-TIME| CONSTRUCTION WORKER| 40|      IRISH|        ACTIVE|       LO|  11-Jan-90|\n",
      "|             7|         23-Dec|29-Dec-23|      47043363|              SD|                EFT|       Not Available|          400|             0|           400.0|                   400.0|                       400.0|       Yes|               Yes|      |   |    5|   |   |             7|      SINGLE|EMPLOYED FULL-TIME| CONSTRUCTION WORKER| 40|      IRISH|        ACTIVE|       LO|  11-Jan-90|\n",
      "|            10|         23-Dec|05-Dec-23|      46991883|               1|            COUNTER|       Not Available|            0|      -2117.03|         2117.03|                 2117.03|                     2117.03|       Yes|               Yes|      |   |    6|   |   |            10|      SINGLE|           RETIRED|       Not Available| 84|      IRISH|        ACTIVE|       LO|  24-Jan-90|\n",
      "|            10|         23-Dec|05-Dec-23|      46991885|               1|            COUNTER|       Not Available|            0|          -500|           500.0|                   500.0|                       500.0|       Yes|               Yes|      |   |    7|   |   |            10|      SINGLE|           RETIRED|       Not Available| 84|      IRISH|        ACTIVE|       LO|  24-Jan-90|\n",
      "|            10|         23-Dec|22-Dec-23|      47033693|               1|            COUNTER|       Not Available|           75|             0|            75.0|                    75.0|                        75.0|       Yes|               Yes|      |   |    8|   |   |            10|      SINGLE|           RETIRED|       Not Available| 84|      IRISH|        ACTIVE|       LO|  24-Jan-90|\n",
      "|            10|         23-Dec|22-Dec-23|      47033696|               1|            COUNTER|       Not Available|            0|           -75|            75.0|                    75.0|                        75.0|       Yes|               Yes|      |   |    9|   |   |            10|      SINGLE|           RETIRED|       Not Available| 84|      IRISH|        ACTIVE|       LO|  24-Jan-90|\n",
      "|            14|         23-Dec|08-Dec-23|      47000799|               N|            COUNTER|       Not Available|            0|      -1600.00|          1600.0|                  1600.0|                      1600.0|       Yes|               Yes|      |   |   10|   |   |            14|      SINGLE|           RETIRED|STATE PENSION NON...| 78|      IRISH|        ACTIVE|       LO|  16-Feb-79|\n",
      "|            14|         23-Dec|08-Dec-23|      47000859|               N|            COUNTER|Share transfer of...|      2500.00|      -2500.00|          5000.0|                  5000.0|                      5000.0|       Yes|               Yes|      |   |   11|   |   |            14|      SINGLE|           RETIRED|STATE PENSION NON...| 78|      IRISH|        ACTIVE|       LO|  16-Feb-79|\n",
      "|            14|         23-Dec|14-Dec-23|      47013019|               4|            COUNTER|       Not Available|           20|             0|            20.0|                    20.0|                           0|       Yes|               Yes|      |   |   12|   |   |            14|      SINGLE|           RETIRED|STATE PENSION NON...| 78|      IRISH|        ACTIVE|       LO|  16-Feb-79|\n",
      "|            14|         23-Dec|21-Dec-23|      47029848|               4|            COUNTER|       Not Available|           20|             0|            20.0|                    20.0|                           0|       Yes|               Yes|      |   |   13|   |   |            14|      SINGLE|           RETIRED|STATE PENSION NON...| 78|      IRISH|        ACTIVE|       LO|  16-Feb-79|\n",
      "|            14|         23-Dec|29-Dec-23|      47046109|               4|            COUNTER|       Not Available|           20|             0|            20.0|                    20.0|                           0|       Yes|               Yes|      |   |   14|   |   |            14|      SINGLE|           RETIRED|STATE PENSION NON...| 78|      IRISH|        ACTIVE|       LO|  16-Feb-79|\n",
      "|            20|         23-Dec|06-Dec-23|      46993529|               N|            COUNTER|       Not Available|      1100.00|             0|          1100.0|                  1100.0|                      1100.0|       Yes|               Yes|      |   |   15|   |   |            20|      SINGLE|           RETIRED|       STATE PENSION| 78|      IRISH|        ACTIVE|       LO|  30-Oct-67|\n",
      "|            33|         23-Dec|01-Dec-23|      46982272|             SCR|                EFT|       Not Available|        298.3|             0|           298.3|                   298.3|                       298.3|       Yes|               Yes|   SCR|  Y|   16|   |   |            33|      SINGLE|           RETIRED|       Not Available| 75|      IRISH|        ACTIVE|       LO|  18-Dec-67|\n",
      "|            33|         23-Dec|01-Dec-23|      46984861|             SDD|                EFT|       Not Available|            0|           -15|            15.0|                    15.0|                           0|       Yes|               Yes|      |   |   17|   |   |            33|      SINGLE|           RETIRED|       Not Available| 75|      IRISH|        ACTIVE|       LO|  18-Dec-67|\n",
      "|            33|         23-Dec|01-Dec-23|      46984862|             SDD|                EFT|       Not Available|            0|           -15|            15.0|                    15.0|                           0|       Yes|               Yes|      |   |   18|   |   |            33|      SINGLE|           RETIRED|       Not Available| 75|      IRISH|        ACTIVE|       LO|  18-Dec-67|\n",
      "|            33|         23-Dec|01-Dec-23|      46985646|            TFER|      Not Available|       Not Available|           50|          -100|           150.0|                   150.0|                       150.0|       Yes|               Yes|      |   |   19|   |   |            33|      SINGLE|           RETIRED|       Not Available| 75|      IRISH|        ACTIVE|       LO|  18-Dec-67|\n",
      "+--------------+---------------+---------+--------------+----------------+-------------------+--------------------+-------------+--------------+----------------+------------------------+----------------------------+----------+------------------+------+---+-----+---+---+--------------+------------+------------------+--------------------+---+-----------+--------------+---------+-----------+\n",
      "only showing top 20 rows\n",
      "\n"
     ]
    }
   ],
   "source": [
    "member_trans_df.show()"
   ]
  },
  {
   "cell_type": "code",
   "execution_count": 27,
   "metadata": {
    "id": "9rq35NZVdRgl",
    "colab": {
     "base_uri": "https://localhost:8080/"
    },
    "outputId": "19008458-9d44-46d9-c1f7-21cc46bbb464"
   },
   "outputs": [
    {
     "output_type": "stream",
     "name": "stdout",
     "text": [
      "+--------------+---------------+---------+--------------+----------------+-------------------+----------------+-------------+--------------+----------------+------------------------+----------------------------+----------+------------------+------+---+-----+---+---+--------------+------------+-----------------+--------------------+---+-----------+--------------+---------+-----------+\n",
      "|Account Number|Financial Month|     Date|Transaction No|Transaction Type|Trans Type Category|Transaction Note|TransInAmount|TransOutAmount|TransactionTotal|TransactionPositiveTotal|TransForMoneyMuleAndCombined|Trans Incl|Account_Not_In_Use|SO_SCR|No1|index|No2|No3|Account Number|Account Type|Employment Status| Employment Position|Age|Nationality|Account Status|Risk Code|Date Joined|\n",
      "+--------------+---------------+---------+--------------+----------------+-------------------+----------------+-------------+--------------+----------------+------------------------+----------------------------+----------+------------------+------+---+-----+---+---+--------------+------------+-----------------+--------------------+---+-----------+--------------+---------+-----------+\n",
      "|           788|         23-Dec|03-Dec-23|      46987301|            MP02|   ATM TRANSACTIONS|   Not Available|            0|          -150|           150.0|                   150.0|                       150.0|       Yes|               Yes|      |   |  734|   |   |           788|      SINGLE|          RETIRED|             RETIRED| 84|      IRISH|        ACTIVE|       HI|  05-Apr-90|\n",
      "|           788|         23-Dec|07-Dec-23|      46994994|             SCR|                EFT|   Not Available|        58.85|             0|           58.85|                   58.85|                       58.85|       Yes|               Yes|   SCR|  Y|  735|   |   |           788|      SINGLE|          RETIRED|             RETIRED| 84|      IRISH|        ACTIVE|       HI|  05-Apr-90|\n",
      "|           788|         23-Dec|14-Dec-23|      47010642|             SCR|                EFT|   Not Available|        58.85|             0|           58.85|                   58.85|                       58.85|       Yes|               Yes|   SCR|  Y|  736|  Y|  Y|           788|      SINGLE|          RETIRED|             RETIRED| 84|      IRISH|        ACTIVE|       HI|  05-Apr-90|\n",
      "|           788|         23-Dec|18-Dec-23|      47020400|             SCR|                EFT|   Not Available|        58.85|             0|           58.85|                   58.85|                       58.85|       Yes|               Yes|   SCR|  Y|  737|  Y|  Y|           788|      SINGLE|          RETIRED|             RETIRED| 84|      IRISH|        ACTIVE|       HI|  05-Apr-90|\n",
      "|           788|         23-Dec|24-Dec-23|      47036930|            MP03|                POS|   Not Available|            0|           -20|            20.0|                    20.0|                           0|       Yes|               Yes|      |   |  738|   |   |           788|      SINGLE|          RETIRED|             RETIRED| 84|      IRISH|        ACTIVE|       HI|  05-Apr-90|\n",
      "|           788|         23-Dec|28-Dec-23|      47041457|             SCR|                EFT|   Not Available|        58.85|             0|           58.85|                   58.85|                       58.85|       Yes|               Yes|   SCR|  Y|  739|   |   |           788|      SINGLE|          RETIRED|             RETIRED| 84|      IRISH|        ACTIVE|       HI|  05-Apr-90|\n",
      "|          1056|         23-Dec|04-Dec-23|      46989669|               N|            COUNTER|   Not Available|          150|             0|           150.0|                   150.0|                       150.0|       Yes|               Yes|      |   |  889|   |   |          1056|      SINGLE|          RETIRED|       STATE PENSION| 75|      IRISH|        ACTIVE|       HI|  10-May-90|\n",
      "|          1056|         23-Dec|11-Dec-23|      47005915|               N|            COUNTER|   Not Available|          150|             0|           150.0|                   150.0|                       150.0|       Yes|               Yes|      |   |  890|   |   |          1056|      SINGLE|          RETIRED|       STATE PENSION| 75|      IRISH|        ACTIVE|       HI|  10-May-90|\n",
      "|          1056|         23-Dec|18-Dec-23|      47021812|               N|            COUNTER|   Not Available|          150|             0|           150.0|                   150.0|                       150.0|       Yes|               Yes|      |   |  891|   |   |          1056|      SINGLE|          RETIRED|       STATE PENSION| 75|      IRISH|        ACTIVE|       HI|  10-May-90|\n",
      "|          1406|         23-Dec|06-Dec-23|      46993488|               4|            COUNTER|   Not Available|          100|             0|           100.0|                   100.0|                       100.0|       Yes|               Yes|      |   | 1273|   |   |          1406|      SINGLE|          RETIRED|             RETIRED| 70|      IRISH|        ACTIVE|       HI|  02-Jun-81|\n",
      "|          1406|         23-Dec|13-Dec-23|      47009522|               4|            COUNTER|   Not Available|          100|             0|           100.0|                   100.0|                       100.0|       Yes|               Yes|      |   | 1274|   |   |          1406|      SINGLE|          RETIRED|             RETIRED| 70|      IRISH|        ACTIVE|       HI|  02-Jun-81|\n",
      "|          1406|         23-Dec|20-Dec-23|      47025894|               4|            COUNTER|   Not Available|          100|             0|           100.0|                   100.0|                       100.0|       Yes|               Yes|      |   | 1275|   |   |          1406|      SINGLE|          RETIRED|             RETIRED| 70|      IRISH|        ACTIVE|       HI|  02-Jun-81|\n",
      "|          1406|         23-Dec|20-Dec-23|      47025895|               N|            COUNTER|   Not Available|          200|             0|           200.0|                   200.0|                       200.0|       Yes|               Yes|      |   | 1276|   |   |          1406|      SINGLE|          RETIRED|             RETIRED| 70|      IRISH|        ACTIVE|       HI|  02-Jun-81|\n",
      "|          1406|         23-Dec|20-Dec-23|      47025897|               N|            COUNTER|   Not Available|            0|          -200|           200.0|                   200.0|                       200.0|       Yes|               Yes|      |   | 1277|   |   |          1406|      SINGLE|          RETIRED|             RETIRED| 70|      IRISH|        ACTIVE|       HI|  02-Jun-81|\n",
      "|          1406|         23-Dec|29-Dec-23|      47046054|               4|            COUNTER|   Not Available|          100|             0|           100.0|                   100.0|                       100.0|       Yes|               Yes|      |   | 1278|   |   |          1406|      SINGLE|          RETIRED|             RETIRED| 70|      IRISH|        ACTIVE|       HI|  02-Jun-81|\n",
      "|          1406|         23-Dec|29-Dec-23|      47046063|               N|            COUNTER|   Not Available|           10|             0|            10.0|                    10.0|                           0|       Yes|               Yes|      |   | 1279|   |   |          1406|      SINGLE|          RETIRED|             RETIRED| 70|      IRISH|        ACTIVE|       HI|  02-Jun-81|\n",
      "|          1583|         23-Dec|05-Dec-23|      46991747|               1|            COUNTER|   Not Available|           20|             0|            20.0|                    20.0|                           0|       Yes|               Yes|      |   | 1369|   |   |          1583|      SINGLE|    SELF EMPLOYED|        HAIR DRESSER| 60|      IRISH|        ACTIVE|       HI|  28-Aug-81|\n",
      "|          1583|         23-Dec|19-Dec-23|      47023731|               1|            COUNTER|   Not Available|           20|             0|            20.0|                    20.0|                           0|       Yes|               Yes|      |   | 1370|   |   |          1583|      SINGLE|    SELF EMPLOYED|        HAIR DRESSER| 60|      IRISH|        ACTIVE|       HI|  28-Aug-81|\n",
      "|          1633|         23-Dec|01-Dec-23|      46985066|               1|            COUNTER|   Not Available|            0|          -600|           600.0|                   600.0|                       600.0|       Yes|               Yes|      |   | 1448|   |   |          1633|      SINGLE|       UNEMPLOYED|JOBSEEKERS ALLOWANCE| 59|      IRISH|        ACTIVE|       HI|  22-Jun-90|\n",
      "|          1633|         23-Dec|14-Dec-23|      47012044|               1|            COUNTER|   Not Available|            0|          -670|           670.0|                   670.0|                       670.0|       Yes|               Yes|      |   | 1449|   |   |          1633|      SINGLE|       UNEMPLOYED|JOBSEEKERS ALLOWANCE| 59|      IRISH|        ACTIVE|       HI|  22-Jun-90|\n",
      "+--------------+---------------+---------+--------------+----------------+-------------------+----------------+-------------+--------------+----------------+------------------------+----------------------------+----------+------------------+------+---+-----+---+---+--------------+------------+-----------------+--------------------+---+-----------+--------------+---------+-----------+\n",
      "only showing top 20 rows\n",
      "\n"
     ]
    }
   ],
   "source": [
    "member_trans_df.filter(member_trans_df['Risk Code'] == \"HI\").show()"
   ]
  },
  {
   "cell_type": "markdown",
   "metadata": {
    "id": "th4G4XKZrRDk"
   },
   "source": [
    "# Calculate Columns from `Member_trans_df`"
   ]
  },
  {
   "cell_type": "code",
   "execution_count": 28,
   "metadata": {
    "id": "6jV7ojv5rNph"
   },
   "outputs": [],
   "source": [
    "member_trans_df = member_trans_df.withColumn(\n",
    "    \"HighRisk\",\n",
    "    when(col(\"Risk Code\").isin(high_risk_categories), \"Yes\").otherwise(\"No\")\n",
    ")\n",
    "\n",
    "# Account_Not_In_Use ki jaGw code_in_use ayeGw\n",
    "member_trans_df = member_trans_df.withColumn(\"GreaterThan\",\n",
    "                               when((col(\"Account_Not_In_Use\")=='Yes') & (col(\"Trans Incl\")=='Yes') & ((col(\"TransInAmount\") >= D_Criteria_Lower) & (col(\"TransInAmount\")<= D_Criteria_Upper)), \"Yes\")\n",
    "                               .otherwise(\"No\"))"
   ]
  },
  {
   "cell_type": "markdown",
   "metadata": {
    "id": "DmLJUv1xsKwV"
   },
   "source": [
    "# Display the `member_trans_df` DataFrame"
   ]
  },
  {
   "cell_type": "code",
   "execution_count": null,
   "metadata": {
    "id": "sbybdi5-r7IR"
   },
   "outputs": [],
   "source": [
    "member_trans_df.show()"
   ]
  },
  {
   "cell_type": "markdown",
   "metadata": {
    "id": "ohGAO5hY3L-A"
   },
   "source": [
    "### Verification of the Column Created"
   ]
  },
  {
   "cell_type": "code",
   "execution_count": null,
   "metadata": {
    "id": "BS4biKlawLr_"
   },
   "outputs": [],
   "source": [
    "member_trans_df.filter(col('GreaterThan') == \"Yes\").show(5)"
   ]
  },
  {
   "cell_type": "code",
   "execution_count": null,
   "metadata": {
    "id": "iW-uenu2dEvT"
   },
   "outputs": [],
   "source": [
    "member_trans_df.filter(col('HighRisk') == \"Yes\").show(5)"
   ]
  },
  {
   "cell_type": "code",
   "execution_count": null,
   "metadata": {
    "id": "gI0oBXsU3lrA"
   },
   "outputs": [],
   "source": [
    "# code no tot use = yes\n",
    "# trans incl yes\n",
    "# high risk yes\n",
    "# trans postive total > A_Crtiera\n"
   ]
  },
  {
   "cell_type": "markdown",
   "metadata": {
    "id": "kpNraG_Je9mL"
   },
   "source": [
    "# Creteria Creation"
   ]
  },
  {
   "cell_type": "code",
   "execution_count": null,
   "metadata": {
    "id": "xmTtv580bay2"
   },
   "outputs": [],
   "source": [
    "member_trans_df = member_trans_df.withColumn(\"A\",\n",
    "                                               when((col(\"Account_Not_In_Use\")==\"Yes\") # Account_Not_In_Use ki jaga code_in_use ayeGw column\n",
    "                                                    & (col(\"HighRisk\")==\"Yes\")\n",
    "                                                    & (col(\"TransactionPositiveTotal\") > A_Criteria ), \"A\")\n",
    "                                               .otherwise(None))"
   ]
  },
  {
   "cell_type": "code",
   "execution_count": null,
   "metadata": {
    "id": "b7A41E3Mbxf2"
   },
   "outputs": [],
   "source": [
    "counts_of_A = member_trans_df.filter(member_trans_df['A'] == 'A').count()\n",
    "print(\"Count of records where column 'A' equals 'A':\", counts_of_A)\n",
    "print(\"==========================================================\")"
   ]
  },
  {
   "cell_type": "code",
   "execution_count": null,
   "metadata": {
    "id": "A1F5LwgIcbHr"
   },
   "outputs": [],
   "source": []
  }
 ],
 "metadata": {
  "colab": {
   "provenance": []
  },
  "kernelspec": {
   "name": "python3",
   "language": "python",
   "display_name": "Python 3 (ipykernel)"
  },
  "language_info": {
   "name": "python"
  }
 },
 "nbformat": 4,
 "nbformat_minor": 0
}
